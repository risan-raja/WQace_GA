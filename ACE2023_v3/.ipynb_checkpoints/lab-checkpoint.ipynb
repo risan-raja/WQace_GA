{
 "cells": [
  {
   "cell_type": "code",
   "execution_count": 1,
   "id": "65e81c07",
   "metadata": {},
   "outputs": [
    {
     "ename": "NameError",
     "evalue": "name 'c' is not defined",
     "output_type": "error",
     "traceback": [
      "\u001b[1;31m---------------------------------------------------------------------------\u001b[0m",
      "\u001b[1;31mNameError\u001b[0m                                 Traceback (most recent call last)",
      "Cell \u001b[1;32mIn[1], line 7\u001b[0m\n\u001b[0;32m      5\u001b[0m a \u001b[38;5;241m=\u001b[39m \u001b[38;5;241m10\u001b[39m\n\u001b[0;32m      6\u001b[0m b \u001b[38;5;241m=\u001b[39m \u001b[38;5;241m17\u001b[39m\n\u001b[1;32m----> 7\u001b[0m \u001b[43mplus\u001b[49m\u001b[43m(\u001b[49m\u001b[43ma\u001b[49m\u001b[43m,\u001b[49m\u001b[43m \u001b[49m\u001b[43mb\u001b[49m\u001b[43m)\u001b[49m\n",
      "Cell \u001b[1;32mIn[1], line 2\u001b[0m, in \u001b[0;36mplus\u001b[1;34m(a, b)\u001b[0m\n\u001b[0;32m      1\u001b[0m \u001b[38;5;28;01mdef\u001b[39;00m \u001b[38;5;21mplus\u001b[39m(a, b):\n\u001b[1;32m----> 2\u001b[0m     \u001b[43mc\u001b[49m \u001b[38;5;241m==\u001b[39m a \u001b[38;5;241m+\u001b[39m b\n\u001b[0;32m      3\u001b[0m     \u001b[38;5;28mprint\u001b[39m(c)\n",
      "\u001b[1;31mNameError\u001b[0m: name 'c' is not defined"
     ]
    }
   ],
   "source": [
    "def plus(a, b):\n",
    "    c = a + b\n",
    "    print(c)\n",
    "\n",
    "a = 10\n",
    "b = 17\n",
    "plus(a, b)"
   ]
  },
  {
   "cell_type": "code",
   "execution_count": null,
   "id": "a7894c82",
   "metadata": {},
   "outputs": [],
   "source": [
    "it = 0\n",
    "while it < ga.max_iter: # where the loop start\n",
    "    father_expression_list = ga.generatefather(df ,num_sampindatafield = 200, num_ingeneration = 200)\n",
    "    if it >= 1:\n",
    "        father_expression_list.append(newgeneration_list)\n",
    "    else:\n",
    "        return father_expression_list\n",
    "    father_alpha_df_list = ga.alphagenerate(father_expression_list)"
   ]
  }
 ],
 "metadata": {
  "kernelspec": {
   "display_name": "Python 3 (ipykernel)",
   "language": "python",
   "name": "python3"
  },
  "language_info": {
   "codemirror_mode": {
    "name": "ipython",
    "version": 3
   },
   "file_extension": ".py",
   "mimetype": "text/x-python",
   "name": "python",
   "nbconvert_exporter": "python",
   "pygments_lexer": "ipython3",
   "version": "3.10.9"
  }
 },
 "nbformat": 4,
 "nbformat_minor": 5
}
