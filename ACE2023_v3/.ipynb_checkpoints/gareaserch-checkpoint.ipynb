{
 "cells": [
  {
   "cell_type": "markdown",
   "metadata": {},
   "source": [
    "### Import library"
   ]
  },
  {
   "cell_type": "code",
   "execution_count": 1,
   "metadata": {},
   "outputs": [
    {
     "name": "stdout",
     "output_type": "stream",
     "text": [
      "Requirement already satisfied: pip>=21.3.1 in c:\\users\\user\\anaconda3\\lib\\site-packages (from -r requirements.txt (line 1)) (22.3.1)\n",
      "Requirement already satisfied: notebook>=5.5.0 in c:\\users\\user\\anaconda3\\lib\\site-packages (from -r requirements.txt (line 2)) (6.5.2)\n",
      "Requirement already satisfied: pandas>=0.23.0 in c:\\users\\user\\anaconda3\\lib\\site-packages (from -r requirements.txt (line 3)) (1.5.3)\n",
      "Requirement already satisfied: requests>=2.18.4 in c:\\users\\user\\anaconda3\\lib\\site-packages (from -r requirements.txt (line 4)) (2.28.1)\n",
      "Requirement already satisfied: seaborn>=0.8.1 in c:\\users\\user\\anaconda3\\lib\\site-packages (from -r requirements.txt (line 5)) (0.12.2)\n",
      "Requirement already satisfied: matplotlib>=2.2.2 in c:\\users\\user\\anaconda3\\lib\\site-packages (from -r requirements.txt (line 6)) (3.7.0)\n",
      "Requirement already satisfied: tqdm>=4.64.1 in c:\\users\\user\\anaconda3\\lib\\site-packages (from -r requirements.txt (line 7)) (4.64.1)\n",
      "Requirement already satisfied: plotly>=5.13.0 in c:\\users\\user\\anaconda3\\lib\\site-packages (from -r requirements.txt (line 8)) (5.16.1)\n",
      "Requirement already satisfied: tornado>=6.1 in c:\\users\\user\\anaconda3\\lib\\site-packages (from notebook>=5.5.0->-r requirements.txt (line 2)) (6.1)\n",
      "Requirement already satisfied: jupyter-core>=4.6.1 in c:\\users\\user\\anaconda3\\lib\\site-packages (from notebook>=5.5.0->-r requirements.txt (line 2)) (5.2.0)\n",
      "Requirement already satisfied: argon2-cffi in c:\\users\\user\\anaconda3\\lib\\site-packages (from notebook>=5.5.0->-r requirements.txt (line 2)) (21.3.0)\n",
      "Requirement already satisfied: ipython-genutils in c:\\users\\user\\anaconda3\\lib\\site-packages (from notebook>=5.5.0->-r requirements.txt (line 2)) (0.2.0)\n",
      "Requirement already satisfied: terminado>=0.8.3 in c:\\users\\user\\anaconda3\\lib\\site-packages (from notebook>=5.5.0->-r requirements.txt (line 2)) (0.17.1)\n",
      "Requirement already satisfied: prometheus-client in c:\\users\\user\\anaconda3\\lib\\site-packages (from notebook>=5.5.0->-r requirements.txt (line 2)) (0.14.1)\n",
      "Requirement already satisfied: pyzmq>=17 in c:\\users\\user\\anaconda3\\lib\\site-packages (from notebook>=5.5.0->-r requirements.txt (line 2)) (23.2.0)\n",
      "Requirement already satisfied: ipykernel in c:\\users\\user\\anaconda3\\lib\\site-packages (from notebook>=5.5.0->-r requirements.txt (line 2)) (6.19.2)\n",
      "Requirement already satisfied: nbclassic>=0.4.7 in c:\\users\\user\\anaconda3\\lib\\site-packages (from notebook>=5.5.0->-r requirements.txt (line 2)) (0.5.2)\n",
      "Requirement already satisfied: jupyter-client>=5.3.4 in c:\\users\\user\\anaconda3\\lib\\site-packages (from notebook>=5.5.0->-r requirements.txt (line 2)) (7.3.4)\n",
      "Requirement already satisfied: nbformat in c:\\users\\user\\anaconda3\\lib\\site-packages (from notebook>=5.5.0->-r requirements.txt (line 2)) (5.7.0)\n",
      "Requirement already satisfied: Send2Trash>=1.8.0 in c:\\users\\user\\anaconda3\\lib\\site-packages (from notebook>=5.5.0->-r requirements.txt (line 2)) (1.8.0)\n",
      "Requirement already satisfied: nbconvert>=5 in c:\\users\\user\\anaconda3\\lib\\site-packages (from notebook>=5.5.0->-r requirements.txt (line 2)) (6.5.4)\n",
      "Requirement already satisfied: nest-asyncio>=1.5 in c:\\users\\user\\anaconda3\\lib\\site-packages (from notebook>=5.5.0->-r requirements.txt (line 2)) (1.5.6)\n",
      "Requirement already satisfied: traitlets>=4.2.1 in c:\\users\\user\\anaconda3\\lib\\site-packages (from notebook>=5.5.0->-r requirements.txt (line 2)) (5.7.1)\n",
      "Requirement already satisfied: jinja2 in c:\\users\\user\\anaconda3\\lib\\site-packages (from notebook>=5.5.0->-r requirements.txt (line 2)) (3.1.2)\n",
      "Requirement already satisfied: numpy>=1.21.0 in c:\\users\\user\\anaconda3\\lib\\site-packages (from pandas>=0.23.0->-r requirements.txt (line 3)) (1.23.5)\n",
      "Requirement already satisfied: python-dateutil>=2.8.1 in c:\\users\\user\\anaconda3\\lib\\site-packages (from pandas>=0.23.0->-r requirements.txt (line 3)) (2.8.2)\n",
      "Requirement already satisfied: pytz>=2020.1 in c:\\users\\user\\anaconda3\\lib\\site-packages (from pandas>=0.23.0->-r requirements.txt (line 3)) (2022.7)\n",
      "Requirement already satisfied: charset-normalizer<3,>=2 in c:\\users\\user\\anaconda3\\lib\\site-packages (from requests>=2.18.4->-r requirements.txt (line 4)) (2.0.4)\n",
      "Requirement already satisfied: certifi>=2017.4.17 in c:\\users\\user\\anaconda3\\lib\\site-packages (from requests>=2.18.4->-r requirements.txt (line 4)) (2023.5.7)\n",
      "Requirement already satisfied: idna<4,>=2.5 in c:\\users\\user\\anaconda3\\lib\\site-packages (from requests>=2.18.4->-r requirements.txt (line 4)) (3.4)\n",
      "Requirement already satisfied: urllib3<1.27,>=1.21.1 in c:\\users\\user\\anaconda3\\lib\\site-packages (from requests>=2.18.4->-r requirements.txt (line 4)) (1.26.14)\n",
      "Requirement already satisfied: fonttools>=4.22.0 in c:\\users\\user\\anaconda3\\lib\\site-packages (from matplotlib>=2.2.2->-r requirements.txt (line 6)) (4.25.0)\n",
      "Requirement already satisfied: pyparsing>=2.3.1 in c:\\users\\user\\anaconda3\\lib\\site-packages (from matplotlib>=2.2.2->-r requirements.txt (line 6)) (3.0.9)\n",
      "Requirement already satisfied: contourpy>=1.0.1 in c:\\users\\user\\anaconda3\\lib\\site-packages (from matplotlib>=2.2.2->-r requirements.txt (line 6)) (1.0.5)\n",
      "Requirement already satisfied: packaging>=20.0 in c:\\users\\user\\anaconda3\\lib\\site-packages (from matplotlib>=2.2.2->-r requirements.txt (line 6)) (22.0)\n",
      "Requirement already satisfied: pillow>=6.2.0 in c:\\users\\user\\anaconda3\\lib\\site-packages (from matplotlib>=2.2.2->-r requirements.txt (line 6)) (9.4.0)\n",
      "Requirement already satisfied: cycler>=0.10 in c:\\users\\user\\anaconda3\\lib\\site-packages (from matplotlib>=2.2.2->-r requirements.txt (line 6)) (0.11.0)\n",
      "Requirement already satisfied: kiwisolver>=1.0.1 in c:\\users\\user\\anaconda3\\lib\\site-packages (from matplotlib>=2.2.2->-r requirements.txt (line 6)) (1.4.4)\n",
      "Requirement already satisfied: colorama in c:\\users\\user\\anaconda3\\lib\\site-packages (from tqdm>=4.64.1->-r requirements.txt (line 7)) (0.4.6)\n",
      "Requirement already satisfied: tenacity>=6.2.0 in c:\\users\\user\\anaconda3\\lib\\site-packages (from plotly>=5.13.0->-r requirements.txt (line 8)) (8.0.1)\n",
      "Requirement already satisfied: entrypoints in c:\\users\\user\\anaconda3\\lib\\site-packages (from jupyter-client>=5.3.4->notebook>=5.5.0->-r requirements.txt (line 2)) (0.4)\n",
      "Requirement already satisfied: pywin32>=1.0 in c:\\users\\user\\anaconda3\\lib\\site-packages (from jupyter-core>=4.6.1->notebook>=5.5.0->-r requirements.txt (line 2)) (305.1)\n",
      "Requirement already satisfied: platformdirs>=2.5 in c:\\users\\user\\anaconda3\\lib\\site-packages (from jupyter-core>=4.6.1->notebook>=5.5.0->-r requirements.txt (line 2)) (2.5.2)\n",
      "Requirement already satisfied: notebook-shim>=0.1.0 in c:\\users\\user\\anaconda3\\lib\\site-packages (from nbclassic>=0.4.7->notebook>=5.5.0->-r requirements.txt (line 2)) (0.2.2)\n",
      "Requirement already satisfied: jupyter-server>=1.8 in c:\\users\\user\\anaconda3\\lib\\site-packages (from nbclassic>=0.4.7->notebook>=5.5.0->-r requirements.txt (line 2)) (1.23.4)\n",
      "Requirement already satisfied: lxml in c:\\users\\user\\anaconda3\\lib\\site-packages (from nbconvert>=5->notebook>=5.5.0->-r requirements.txt (line 2)) (4.9.1)\n",
      "Requirement already satisfied: mistune<2,>=0.8.1 in c:\\users\\user\\anaconda3\\lib\\site-packages (from nbconvert>=5->notebook>=5.5.0->-r requirements.txt (line 2)) (0.8.4)\n",
      "Requirement already satisfied: pandocfilters>=1.4.1 in c:\\users\\user\\anaconda3\\lib\\site-packages (from nbconvert>=5->notebook>=5.5.0->-r requirements.txt (line 2)) (1.5.0)\n",
      "Requirement already satisfied: beautifulsoup4 in c:\\users\\user\\anaconda3\\lib\\site-packages (from nbconvert>=5->notebook>=5.5.0->-r requirements.txt (line 2)) (4.11.1)\n",
      "Requirement already satisfied: jupyterlab-pygments in c:\\users\\user\\anaconda3\\lib\\site-packages (from nbconvert>=5->notebook>=5.5.0->-r requirements.txt (line 2)) (0.1.2)\n",
      "Requirement already satisfied: tinycss2 in c:\\users\\user\\anaconda3\\lib\\site-packages (from nbconvert>=5->notebook>=5.5.0->-r requirements.txt (line 2)) (1.2.1)\n",
      "Requirement already satisfied: pygments>=2.4.1 in c:\\users\\user\\anaconda3\\lib\\site-packages (from nbconvert>=5->notebook>=5.5.0->-r requirements.txt (line 2)) (2.11.2)\n",
      "Requirement already satisfied: MarkupSafe>=2.0 in c:\\users\\user\\anaconda3\\lib\\site-packages (from nbconvert>=5->notebook>=5.5.0->-r requirements.txt (line 2)) (2.1.1)\n",
      "Requirement already satisfied: defusedxml in c:\\users\\user\\anaconda3\\lib\\site-packages (from nbconvert>=5->notebook>=5.5.0->-r requirements.txt (line 2)) (0.7.1)\n",
      "Requirement already satisfied: nbclient>=0.5.0 in c:\\users\\user\\anaconda3\\lib\\site-packages (from nbconvert>=5->notebook>=5.5.0->-r requirements.txt (line 2)) (0.5.13)\n",
      "Requirement already satisfied: bleach in c:\\users\\user\\anaconda3\\lib\\site-packages (from nbconvert>=5->notebook>=5.5.0->-r requirements.txt (line 2)) (4.1.0)\n",
      "Requirement already satisfied: jsonschema>=2.6 in c:\\users\\user\\anaconda3\\lib\\site-packages (from nbformat->notebook>=5.5.0->-r requirements.txt (line 2)) (4.17.3)\n",
      "Requirement already satisfied: fastjsonschema in c:\\users\\user\\anaconda3\\lib\\site-packages (from nbformat->notebook>=5.5.0->-r requirements.txt (line 2)) (2.16.2)\n",
      "Requirement already satisfied: six>=1.5 in c:\\users\\user\\anaconda3\\lib\\site-packages (from python-dateutil>=2.8.1->pandas>=0.23.0->-r requirements.txt (line 3)) (1.16.0)\n",
      "Requirement already satisfied: pywinpty>=1.1.0 in c:\\users\\user\\anaconda3\\lib\\site-packages (from terminado>=0.8.3->notebook>=5.5.0->-r requirements.txt (line 2)) (2.0.10)\n",
      "Requirement already satisfied: argon2-cffi-bindings in c:\\users\\user\\anaconda3\\lib\\site-packages (from argon2-cffi->notebook>=5.5.0->-r requirements.txt (line 2)) (21.2.0)\n",
      "Requirement already satisfied: ipython>=7.23.1 in c:\\users\\user\\anaconda3\\lib\\site-packages (from ipykernel->notebook>=5.5.0->-r requirements.txt (line 2)) (8.10.0)\n",
      "Requirement already satisfied: debugpy>=1.0 in c:\\users\\user\\anaconda3\\lib\\site-packages (from ipykernel->notebook>=5.5.0->-r requirements.txt (line 2)) (1.5.1)\n",
      "Requirement already satisfied: comm>=0.1.1 in c:\\users\\user\\anaconda3\\lib\\site-packages (from ipykernel->notebook>=5.5.0->-r requirements.txt (line 2)) (0.1.2)\n",
      "Requirement already satisfied: psutil in c:\\users\\user\\anaconda3\\lib\\site-packages (from ipykernel->notebook>=5.5.0->-r requirements.txt (line 2)) (5.9.0)\n",
      "Requirement already satisfied: matplotlib-inline>=0.1 in c:\\users\\user\\anaconda3\\lib\\site-packages (from ipykernel->notebook>=5.5.0->-r requirements.txt (line 2)) (0.1.6)\n",
      "Requirement already satisfied: decorator in c:\\users\\user\\anaconda3\\lib\\site-packages (from ipython>=7.23.1->ipykernel->notebook>=5.5.0->-r requirements.txt (line 2)) (5.1.1)\n",
      "Requirement already satisfied: jedi>=0.16 in c:\\users\\user\\anaconda3\\lib\\site-packages (from ipython>=7.23.1->ipykernel->notebook>=5.5.0->-r requirements.txt (line 2)) (0.18.1)\n",
      "Requirement already satisfied: pickleshare in c:\\users\\user\\anaconda3\\lib\\site-packages (from ipython>=7.23.1->ipykernel->notebook>=5.5.0->-r requirements.txt (line 2)) (0.7.5)\n",
      "Requirement already satisfied: stack-data in c:\\users\\user\\anaconda3\\lib\\site-packages (from ipython>=7.23.1->ipykernel->notebook>=5.5.0->-r requirements.txt (line 2)) (0.2.0)\n",
      "Requirement already satisfied: prompt-toolkit<3.1.0,>=3.0.30 in c:\\users\\user\\anaconda3\\lib\\site-packages (from ipython>=7.23.1->ipykernel->notebook>=5.5.0->-r requirements.txt (line 2)) (3.0.36)\n",
      "Requirement already satisfied: backcall in c:\\users\\user\\anaconda3\\lib\\site-packages (from ipython>=7.23.1->ipykernel->notebook>=5.5.0->-r requirements.txt (line 2)) (0.2.0)\n",
      "Requirement already satisfied: attrs>=17.4.0 in c:\\users\\user\\anaconda3\\lib\\site-packages (from jsonschema>=2.6->nbformat->notebook>=5.5.0->-r requirements.txt (line 2)) (22.1.0)\n",
      "Requirement already satisfied: pyrsistent!=0.17.0,!=0.17.1,!=0.17.2,>=0.14.0 in c:\\users\\user\\anaconda3\\lib\\site-packages (from jsonschema>=2.6->nbformat->notebook>=5.5.0->-r requirements.txt (line 2)) (0.18.0)\n",
      "Requirement already satisfied: anyio<4,>=3.1.0 in c:\\users\\user\\anaconda3\\lib\\site-packages (from jupyter-server>=1.8->nbclassic>=0.4.7->notebook>=5.5.0->-r requirements.txt (line 2)) (3.5.0)\n",
      "Requirement already satisfied: websocket-client in c:\\users\\user\\anaconda3\\lib\\site-packages (from jupyter-server>=1.8->nbclassic>=0.4.7->notebook>=5.5.0->-r requirements.txt (line 2)) (0.58.0)\n",
      "Requirement already satisfied: cffi>=1.0.1 in c:\\users\\user\\anaconda3\\lib\\site-packages (from argon2-cffi-bindings->argon2-cffi->notebook>=5.5.0->-r requirements.txt (line 2)) (1.15.1)\n",
      "Requirement already satisfied: soupsieve>1.2 in c:\\users\\user\\anaconda3\\lib\\site-packages (from beautifulsoup4->nbconvert>=5->notebook>=5.5.0->-r requirements.txt (line 2)) (2.3.2.post1)\n",
      "Requirement already satisfied: webencodings in c:\\users\\user\\anaconda3\\lib\\site-packages (from bleach->nbconvert>=5->notebook>=5.5.0->-r requirements.txt (line 2)) (0.5.1)\n",
      "Requirement already satisfied: sniffio>=1.1 in c:\\users\\user\\anaconda3\\lib\\site-packages (from anyio<4,>=3.1.0->jupyter-server>=1.8->nbclassic>=0.4.7->notebook>=5.5.0->-r requirements.txt (line 2)) (1.2.0)\n",
      "Requirement already satisfied: pycparser in c:\\users\\user\\anaconda3\\lib\\site-packages (from cffi>=1.0.1->argon2-cffi-bindings->argon2-cffi->notebook>=5.5.0->-r requirements.txt (line 2)) (2.21)\n",
      "Requirement already satisfied: parso<0.9.0,>=0.8.0 in c:\\users\\user\\anaconda3\\lib\\site-packages (from jedi>=0.16->ipython>=7.23.1->ipykernel->notebook>=5.5.0->-r requirements.txt (line 2)) (0.8.3)\n",
      "Requirement already satisfied: wcwidth in c:\\users\\user\\anaconda3\\lib\\site-packages (from prompt-toolkit<3.1.0,>=3.0.30->ipython>=7.23.1->ipykernel->notebook>=5.5.0->-r requirements.txt (line 2)) (0.2.5)\n",
      "Requirement already satisfied: executing in c:\\users\\user\\anaconda3\\lib\\site-packages (from stack-data->ipython>=7.23.1->ipykernel->notebook>=5.5.0->-r requirements.txt (line 2)) (0.8.3)\n",
      "Requirement already satisfied: pure-eval in c:\\users\\user\\anaconda3\\lib\\site-packages (from stack-data->ipython>=7.23.1->ipykernel->notebook>=5.5.0->-r requirements.txt (line 2)) (0.2.2)\n",
      "Requirement already satisfied: asttokens in c:\\users\\user\\anaconda3\\lib\\site-packages (from stack-data->ipython>=7.23.1->ipykernel->notebook>=5.5.0->-r requirements.txt (line 2)) (2.0.5)\n"
     ]
    },
    {
     "name": "stderr",
     "output_type": "stream",
     "text": [
      "WARNING: Ignoring invalid distribution -lotly (c:\\users\\user\\anaconda3\\lib\\site-packages)\n",
      "WARNING: Ignoring invalid distribution -lotly (c:\\users\\user\\anaconda3\\lib\\site-packages)\n",
      "WARNING: Ignoring invalid distribution -lotly (c:\\users\\user\\anaconda3\\lib\\site-packages)\n",
      "WARNING: Ignoring invalid distribution -lotly (c:\\users\\user\\anaconda3\\lib\\site-packages)\n",
      "WARNING: Ignoring invalid distribution -lotly (c:\\users\\user\\anaconda3\\lib\\site-packages)\n",
      "WARNING: Ignoring invalid distribution -lotly (c:\\users\\user\\anaconda3\\lib\\site-packages)\n"
     ]
    }
   ],
   "source": [
    "!pip install -r requirements.txt"
   ]
  },
  {
   "cell_type": "code",
   "execution_count": 2,
   "metadata": {
    "tags": []
   },
   "outputs": [],
   "source": [
    "import ace_lib as ace\n",
    "import helpful_functions as hf\n",
    "import pandas as pd\n",
    "import requests\n",
    "import plotly.express as px"
   ]
  },
  {
   "cell_type": "markdown",
   "metadata": {},
   "source": [
    "### Start session\n",
    "Enter credentials once - they will be saved to local folder and loaded each time"
   ]
  },
  {
   "cell_type": "code",
   "execution_count": 3,
   "metadata": {},
   "outputs": [
    {
     "name": "stdout",
     "output_type": "stream",
     "text": [
      "Complete biometrics authentication and press any key to continue: \n",
      "https://api.worldquantbrain.com/authentication/persona?inquiry=inq_NMN98x2DSskDwJnF6e9bDCCy\n",
      "\n",
      "\n"
     ]
    }
   ],
   "source": [
    "s = ace.start_session()"
   ]
  },
  {
   "cell_type": "markdown",
   "metadata": {},
   "source": [
    "### Create list of alpha expressions\n",
    "#### Step 1. Download datsets"
   ]
  },
  {
   "cell_type": "code",
   "execution_count": 4,
   "metadata": {},
   "outputs": [
    {
     "data": {
      "text/html": [
       "<div>\n",
       "<style scoped>\n",
       "    .dataframe tbody tr th:only-of-type {\n",
       "        vertical-align: middle;\n",
       "    }\n",
       "\n",
       "    .dataframe tbody tr th {\n",
       "        vertical-align: top;\n",
       "    }\n",
       "\n",
       "    .dataframe thead th {\n",
       "        text-align: right;\n",
       "    }\n",
       "</style>\n",
       "<table border=\"1\" class=\"dataframe\">\n",
       "  <thead>\n",
       "    <tr style=\"text-align: right;\">\n",
       "      <th></th>\n",
       "      <th>id</th>\n",
       "      <th>name</th>\n",
       "      <th>description</th>\n",
       "      <th>category</th>\n",
       "      <th>subcategory</th>\n",
       "      <th>region</th>\n",
       "      <th>delay</th>\n",
       "      <th>universe</th>\n",
       "      <th>coverage</th>\n",
       "      <th>turnover</th>\n",
       "      <th>valueScore</th>\n",
       "      <th>userCount</th>\n",
       "      <th>alphaCount</th>\n",
       "      <th>fieldCount</th>\n",
       "    </tr>\n",
       "  </thead>\n",
       "  <tbody>\n",
       "    <tr>\n",
       "      <th>0</th>\n",
       "      <td>analyst11</td>\n",
       "      <td>ESG scores</td>\n",
       "      <td>Environmental Social Governance scores that ex...</td>\n",
       "      <td>analyst</td>\n",
       "      <td>analyst-esg</td>\n",
       "      <td>USA</td>\n",
       "      <td>1</td>\n",
       "      <td>TOP3000</td>\n",
       "      <td>0.6818</td>\n",
       "      <td>None</td>\n",
       "      <td>2.0</td>\n",
       "      <td>140</td>\n",
       "      <td>10172</td>\n",
       "      <td>197</td>\n",
       "    </tr>\n",
       "    <tr>\n",
       "      <th>1</th>\n",
       "      <td>analyst14</td>\n",
       "      <td>Estimations of Key Fundamentals</td>\n",
       "      <td>This dataset reports many items from financial...</td>\n",
       "      <td>analyst</td>\n",
       "      <td>analyst-analyst-estimates</td>\n",
       "      <td>USA</td>\n",
       "      <td>1</td>\n",
       "      <td>TOP3000</td>\n",
       "      <td>0.6176</td>\n",
       "      <td>None</td>\n",
       "      <td>2.0</td>\n",
       "      <td>238</td>\n",
       "      <td>58072</td>\n",
       "      <td>870</td>\n",
       "    </tr>\n",
       "    <tr>\n",
       "      <th>2</th>\n",
       "      <td>analyst15</td>\n",
       "      <td>Earnings forecasts</td>\n",
       "      <td>This dataset provides bottom-up forecast data ...</td>\n",
       "      <td>analyst</td>\n",
       "      <td>analyst-analyst-estimates</td>\n",
       "      <td>USA</td>\n",
       "      <td>1</td>\n",
       "      <td>TOP3000</td>\n",
       "      <td>0.9892</td>\n",
       "      <td>None</td>\n",
       "      <td>2.0</td>\n",
       "      <td>277</td>\n",
       "      <td>138916</td>\n",
       "      <td>2538</td>\n",
       "    </tr>\n",
       "    <tr>\n",
       "      <th>3</th>\n",
       "      <td>analyst16</td>\n",
       "      <td>Real Time Estimates</td>\n",
       "      <td>This dataset provides real-time access to the ...</td>\n",
       "      <td>analyst</td>\n",
       "      <td>analyst-crowdsourced-estimates</td>\n",
       "      <td>USA</td>\n",
       "      <td>1</td>\n",
       "      <td>TOP3000</td>\n",
       "      <td>0.8252</td>\n",
       "      <td>None</td>\n",
       "      <td>2.0</td>\n",
       "      <td>139</td>\n",
       "      <td>6904</td>\n",
       "      <td>113</td>\n",
       "    </tr>\n",
       "    <tr>\n",
       "      <th>4</th>\n",
       "      <td>analyst2</td>\n",
       "      <td>Analysts Estimates of Key Fundamentals</td>\n",
       "      <td>This data contains forecasts of key fundamentals.</td>\n",
       "      <td>analyst</td>\n",
       "      <td>analyst-crowdsourced-estimates</td>\n",
       "      <td>USA</td>\n",
       "      <td>1</td>\n",
       "      <td>TOP3000</td>\n",
       "      <td>0.4702</td>\n",
       "      <td>None</td>\n",
       "      <td>2.0</td>\n",
       "      <td>388</td>\n",
       "      <td>14812</td>\n",
       "      <td>27</td>\n",
       "    </tr>\n",
       "  </tbody>\n",
       "</table>\n",
       "</div>"
      ],
      "text/plain": [
       "          id                                    name  \\\n",
       "0  analyst11                              ESG scores   \n",
       "1  analyst14         Estimations of Key Fundamentals   \n",
       "2  analyst15                      Earnings forecasts   \n",
       "3  analyst16                     Real Time Estimates   \n",
       "4   analyst2  Analysts Estimates of Key Fundamentals   \n",
       "\n",
       "                                         description category  \\\n",
       "0  Environmental Social Governance scores that ex...  analyst   \n",
       "1  This dataset reports many items from financial...  analyst   \n",
       "2  This dataset provides bottom-up forecast data ...  analyst   \n",
       "3  This dataset provides real-time access to the ...  analyst   \n",
       "4  This data contains forecasts of key fundamentals.  analyst   \n",
       "\n",
       "                      subcategory region  delay universe  coverage turnover  \\\n",
       "0                     analyst-esg    USA      1  TOP3000    0.6818     None   \n",
       "1       analyst-analyst-estimates    USA      1  TOP3000    0.6176     None   \n",
       "2       analyst-analyst-estimates    USA      1  TOP3000    0.9892     None   \n",
       "3  analyst-crowdsourced-estimates    USA      1  TOP3000    0.8252     None   \n",
       "4  analyst-crowdsourced-estimates    USA      1  TOP3000    0.4702     None   \n",
       "\n",
       "   valueScore  userCount  alphaCount  fieldCount  \n",
       "0         2.0        140       10172         197  \n",
       "1         2.0        238       58072         870  \n",
       "2         2.0        277      138916        2538  \n",
       "3         2.0        139        6904         113  \n",
       "4         2.0        388       14812          27  "
      ]
     },
     "execution_count": 4,
     "metadata": {},
     "output_type": "execute_result"
    }
   ],
   "source": [
    "datasets_df = hf.get_datasets(s) # by default we load all datasets USA TOP3000 delay 1\n",
    "datasets_df.head() # DataFrame.head() shows first 5 rows of the dataframe "
   ]
  },
  {
   "cell_type": "code",
   "execution_count": 14,
   "metadata": {},
   "outputs": [
    {
     "data": {
      "text/html": [
       "<div>\n",
       "<style scoped>\n",
       "    .dataframe tbody tr th:only-of-type {\n",
       "        vertical-align: middle;\n",
       "    }\n",
       "\n",
       "    .dataframe tbody tr th {\n",
       "        vertical-align: top;\n",
       "    }\n",
       "\n",
       "    .dataframe thead th {\n",
       "        text-align: right;\n",
       "    }\n",
       "</style>\n",
       "<table border=\"1\" class=\"dataframe\">\n",
       "  <thead>\n",
       "    <tr style=\"text-align: right;\">\n",
       "      <th></th>\n",
       "      <th>id</th>\n",
       "      <th>name</th>\n",
       "      <th>description</th>\n",
       "      <th>category</th>\n",
       "      <th>subcategory</th>\n",
       "      <th>region</th>\n",
       "      <th>delay</th>\n",
       "      <th>universe</th>\n",
       "      <th>coverage</th>\n",
       "      <th>turnover</th>\n",
       "      <th>valueScore</th>\n",
       "      <th>userCount</th>\n",
       "      <th>alphaCount</th>\n",
       "      <th>fieldCount</th>\n",
       "    </tr>\n",
       "  </thead>\n",
       "  <tbody>\n",
       "    <tr>\n",
       "      <th>179</th>\n",
       "      <td>option11</td>\n",
       "      <td>Equity Option Ratings Data</td>\n",
       "      <td>Relative measures of the implied volatility (I...</td>\n",
       "      <td>option</td>\n",
       "      <td>option-option</td>\n",
       "      <td>USA</td>\n",
       "      <td>1</td>\n",
       "      <td>TOP3000</td>\n",
       "      <td>0.8665</td>\n",
       "      <td>None</td>\n",
       "      <td>3.0</td>\n",
       "      <td>30</td>\n",
       "      <td>350</td>\n",
       "      <td>15</td>\n",
       "    </tr>\n",
       "    <tr>\n",
       "      <th>178</th>\n",
       "      <td>option1</td>\n",
       "      <td>Options Volatility Surfaces Data</td>\n",
       "      <td>The dataset provides standardized option data ...</td>\n",
       "      <td>option</td>\n",
       "      <td>option-option-volatility</td>\n",
       "      <td>USA</td>\n",
       "      <td>1</td>\n",
       "      <td>TOP3000</td>\n",
       "      <td>0.7799</td>\n",
       "      <td>None</td>\n",
       "      <td>2.0</td>\n",
       "      <td>42</td>\n",
       "      <td>476</td>\n",
       "      <td>18</td>\n",
       "    </tr>\n",
       "    <tr>\n",
       "      <th>181</th>\n",
       "      <td>option4</td>\n",
       "      <td>Implied Volatility and Pricing for Equity Options</td>\n",
       "      <td>This dataset provides information of options p...</td>\n",
       "      <td>option</td>\n",
       "      <td>option-option</td>\n",
       "      <td>USA</td>\n",
       "      <td>1</td>\n",
       "      <td>TOP3000</td>\n",
       "      <td>0.8218</td>\n",
       "      <td>None</td>\n",
       "      <td>2.0</td>\n",
       "      <td>274</td>\n",
       "      <td>108406</td>\n",
       "      <td>1196</td>\n",
       "    </tr>\n",
       "    <tr>\n",
       "      <th>182</th>\n",
       "      <td>option6</td>\n",
       "      <td>Forecasted Volatility for Equity Options</td>\n",
       "      <td>This dataset has various estimates of Options ...</td>\n",
       "      <td>option</td>\n",
       "      <td>option-option-volatility</td>\n",
       "      <td>USA</td>\n",
       "      <td>1</td>\n",
       "      <td>TOP3000</td>\n",
       "      <td>0.8940</td>\n",
       "      <td>None</td>\n",
       "      <td>2.0</td>\n",
       "      <td>189</td>\n",
       "      <td>34450</td>\n",
       "      <td>140</td>\n",
       "    </tr>\n",
       "  </tbody>\n",
       "</table>\n",
       "</div>"
      ],
      "text/plain": [
       "           id                                               name  \\\n",
       "179  option11                         Equity Option Ratings Data   \n",
       "178   option1                   Options Volatility Surfaces Data   \n",
       "181   option4  Implied Volatility and Pricing for Equity Options   \n",
       "182   option6           Forecasted Volatility for Equity Options   \n",
       "\n",
       "                                           description category  \\\n",
       "179  Relative measures of the implied volatility (I...   option   \n",
       "178  The dataset provides standardized option data ...   option   \n",
       "181  This dataset provides information of options p...   option   \n",
       "182  This dataset has various estimates of Options ...   option   \n",
       "\n",
       "                  subcategory region  delay universe  coverage turnover  \\\n",
       "179             option-option    USA      1  TOP3000    0.8665     None   \n",
       "178  option-option-volatility    USA      1  TOP3000    0.7799     None   \n",
       "181             option-option    USA      1  TOP3000    0.8218     None   \n",
       "182  option-option-volatility    USA      1  TOP3000    0.8940     None   \n",
       "\n",
       "     valueScore  userCount  alphaCount  fieldCount  \n",
       "179         3.0         30         350          15  \n",
       "178         2.0         42         476          18  \n",
       "181         2.0        274      108406        1196  \n",
       "182         2.0        189       34450         140  "
      ]
     },
     "execution_count": 14,
     "metadata": {},
     "output_type": "execute_result"
    }
   ],
   "source": [
    "# select needed datasets\n",
    "selected_datasets_df = datasets_df.query(\"\"\"\n",
    "        delay == 1 &\\\n",
    "        0.4 < coverage <= 1 &\\\n",
    "        0 < fieldCount < 10000 &\\\n",
    "        region == 'USA' &\\\n",
    "        universe == 'TOP3000' &\\\n",
    "        0 < userCount < 1000 &\\\n",
    "        1 < valueScore < 10 &\\\n",
    "        name.str.contains('opt', case=False) == 1 &\\\n",
    "        (category == 'option' | category == 'option')\n",
    "    \"\"\", engine='python').sort_values(by=['valueScore'], ascending=False)\n",
    "selected_datasets_df"
   ]
  },
  {
   "cell_type": "markdown",
   "metadata": {},
   "source": [
    "For demonstration we are picking the dataset with the highest value score, this is not mandatory but definitely a recommended practice"
   ]
  },
  {
   "cell_type": "markdown",
   "metadata": {},
   "source": [
    "#### Step 2. Select the needed datafields\n"
   ]
  },
  {
   "cell_type": "code",
   "execution_count": 15,
   "metadata": {
    "scrolled": true
   },
   "outputs": [
    {
     "data": {
      "text/plain": [
       "'option11'"
      ]
     },
     "execution_count": 15,
     "metadata": {},
     "output_type": "execute_result"
    }
   ],
   "source": [
    "dataset_id = selected_datasets_df.id.values.tolist()[0] # create a list of selected datasets ids, our list has only one element\n",
    "dataset_id"
   ]
  },
  {
   "cell_type": "code",
   "execution_count": 16,
   "metadata": {},
   "outputs": [
    {
     "data": {
      "text/html": [
       "<div>\n",
       "<style scoped>\n",
       "    .dataframe tbody tr th:only-of-type {\n",
       "        vertical-align: middle;\n",
       "    }\n",
       "\n",
       "    .dataframe tbody tr th {\n",
       "        vertical-align: top;\n",
       "    }\n",
       "\n",
       "    .dataframe thead th {\n",
       "        text-align: right;\n",
       "    }\n",
       "</style>\n",
       "<table border=\"1\" class=\"dataframe\">\n",
       "  <thead>\n",
       "    <tr style=\"text-align: right;\">\n",
       "      <th></th>\n",
       "      <th>id</th>\n",
       "      <th>description</th>\n",
       "      <th>dataset</th>\n",
       "      <th>category</th>\n",
       "      <th>subcategory</th>\n",
       "      <th>region</th>\n",
       "      <th>delay</th>\n",
       "      <th>universe</th>\n",
       "      <th>type</th>\n",
       "      <th>coverage</th>\n",
       "      <th>turnover</th>\n",
       "      <th>userCount</th>\n",
       "      <th>alphaCount</th>\n",
       "    </tr>\n",
       "  </thead>\n",
       "  <tbody>\n",
       "    <tr>\n",
       "      <th>0</th>\n",
       "      <td>opt11_calendardaysuntilearnings</td>\n",
       "      <td>The number of calendar days until the next ear...</td>\n",
       "      <td>{'id': 'option11', 'name': 'Equity Option Rati...</td>\n",
       "      <td>option</td>\n",
       "      <td>option-option</td>\n",
       "      <td>USA</td>\n",
       "      <td>1</td>\n",
       "      <td>TOP3000</td>\n",
       "      <td>VECTOR</td>\n",
       "      <td>0.8361</td>\n",
       "      <td>None</td>\n",
       "      <td>9</td>\n",
       "      <td>36</td>\n",
       "    </tr>\n",
       "    <tr>\n",
       "      <th>1</th>\n",
       "      <td>opt11_earningscrushrate</td>\n",
       "      <td>The expected crush rate for the ATM IV of the ...</td>\n",
       "      <td>{'id': 'option11', 'name': 'Equity Option Rati...</td>\n",
       "      <td>option</td>\n",
       "      <td>option-option</td>\n",
       "      <td>USA</td>\n",
       "      <td>1</td>\n",
       "      <td>TOP3000</td>\n",
       "      <td>VECTOR</td>\n",
       "      <td>0.8135</td>\n",
       "      <td>None</td>\n",
       "      <td>15</td>\n",
       "      <td>46</td>\n",
       "    </tr>\n",
       "    <tr>\n",
       "      <th>2</th>\n",
       "      <td>opt11_iv30percentile</td>\n",
       "      <td>IV Percentile based on 30-day IV using one yea...</td>\n",
       "      <td>{'id': 'option11', 'name': 'Equity Option Rati...</td>\n",
       "      <td>option</td>\n",
       "      <td>option-option</td>\n",
       "      <td>USA</td>\n",
       "      <td>1</td>\n",
       "      <td>TOP3000</td>\n",
       "      <td>VECTOR</td>\n",
       "      <td>0.8750</td>\n",
       "      <td>None</td>\n",
       "      <td>6</td>\n",
       "      <td>30</td>\n",
       "    </tr>\n",
       "    <tr>\n",
       "      <th>3</th>\n",
       "      <td>opt11_iv30rank</td>\n",
       "      <td>IV Rank based on 30-day IV using one year of h...</td>\n",
       "      <td>{'id': 'option11', 'name': 'Equity Option Rati...</td>\n",
       "      <td>option</td>\n",
       "      <td>option-option</td>\n",
       "      <td>USA</td>\n",
       "      <td>1</td>\n",
       "      <td>TOP3000</td>\n",
       "      <td>VECTOR</td>\n",
       "      <td>0.8758</td>\n",
       "      <td>None</td>\n",
       "      <td>5</td>\n",
       "      <td>14</td>\n",
       "    </tr>\n",
       "    <tr>\n",
       "      <th>4</th>\n",
       "      <td>opt11_iv30rating</td>\n",
       "      <td>IV Rating based on 30-day IV using one year of...</td>\n",
       "      <td>{'id': 'option11', 'name': 'Equity Option Rati...</td>\n",
       "      <td>option</td>\n",
       "      <td>option-option</td>\n",
       "      <td>USA</td>\n",
       "      <td>1</td>\n",
       "      <td>TOP3000</td>\n",
       "      <td>VECTOR</td>\n",
       "      <td>0.8776</td>\n",
       "      <td>None</td>\n",
       "      <td>7</td>\n",
       "      <td>26</td>\n",
       "    </tr>\n",
       "  </tbody>\n",
       "</table>\n",
       "</div>"
      ],
      "text/plain": [
       "                                id  \\\n",
       "0  opt11_calendardaysuntilearnings   \n",
       "1          opt11_earningscrushrate   \n",
       "2             opt11_iv30percentile   \n",
       "3                   opt11_iv30rank   \n",
       "4                 opt11_iv30rating   \n",
       "\n",
       "                                         description  \\\n",
       "0  The number of calendar days until the next ear...   \n",
       "1  The expected crush rate for the ATM IV of the ...   \n",
       "2  IV Percentile based on 30-day IV using one yea...   \n",
       "3  IV Rank based on 30-day IV using one year of h...   \n",
       "4  IV Rating based on 30-day IV using one year of...   \n",
       "\n",
       "                                             dataset category    subcategory  \\\n",
       "0  {'id': 'option11', 'name': 'Equity Option Rati...   option  option-option   \n",
       "1  {'id': 'option11', 'name': 'Equity Option Rati...   option  option-option   \n",
       "2  {'id': 'option11', 'name': 'Equity Option Rati...   option  option-option   \n",
       "3  {'id': 'option11', 'name': 'Equity Option Rati...   option  option-option   \n",
       "4  {'id': 'option11', 'name': 'Equity Option Rati...   option  option-option   \n",
       "\n",
       "  region  delay universe    type  coverage turnover  userCount  alphaCount  \n",
       "0    USA      1  TOP3000  VECTOR    0.8361     None          9          36  \n",
       "1    USA      1  TOP3000  VECTOR    0.8135     None         15          46  \n",
       "2    USA      1  TOP3000  VECTOR    0.8750     None          6          30  \n",
       "3    USA      1  TOP3000  VECTOR    0.8758     None          5          14  \n",
       "4    USA      1  TOP3000  VECTOR    0.8776     None          7          26  "
      ]
     },
     "execution_count": 16,
     "metadata": {},
     "output_type": "execute_result"
    }
   ],
   "source": [
    "datafields_df = hf.get_datafields(s, dataset_id=dataset_id) # doenload all fields of dataset news92\n",
    "datafields_df.head()"
   ]
  },
  {
   "cell_type": "markdown",
   "metadata": {},
   "source": [
    "#### Step 3. Create expression list, using selected datafields\n",
    "Here is an example: creating expressions that assign weights as per the time series skewness of vector average of the field value"
   ]
  },
  {
   "cell_type": "code",
   "execution_count": 17,
   "metadata": {},
   "outputs": [],
   "source": [
    "expression_list = [f'ts_delta(vec_avg({x}),120)' for x in datafields_df.id.values.tolist()] # create a list of alpha expressions ts_skewness(vec_avg({x}),120) where x is a datafield id"
   ]
  },
  {
   "cell_type": "markdown",
   "metadata": {},
   "source": [
    "#### Step 4. Apply generate_alpha function to the expression list\n",
    "In generate alpha function you can specify region, universe, decay, delay and other simulation settings"
   ]
  },
  {
   "cell_type": "code",
   "execution_count": 18,
   "metadata": {},
   "outputs": [
    {
     "data": {
      "text/plain": [
       "{'type': 'REGULAR',\n",
       " 'settings': {'nanHandling': 'OFF',\n",
       "  'instrumentType': 'EQUITY',\n",
       "  'delay': 1,\n",
       "  'universe': 'TOP3000',\n",
       "  'truncation': 0.08,\n",
       "  'unitHandling': 'VERIFY',\n",
       "  'pasteurization': 'ON',\n",
       "  'region': 'USA',\n",
       "  'language': 'FASTEXPR',\n",
       "  'decay': 0,\n",
       "  'neutralization': 'INDUSTRY',\n",
       "  'visualization': False},\n",
       " 'regular': 'ts_delta(vec_avg(opt11_calendardaysuntilearnings),120)'}"
      ]
     },
     "execution_count": 18,
     "metadata": {},
     "output_type": "execute_result"
    }
   ],
   "source": [
    "#when you send multiple alphas for simulation, please make sure all alphas of a single list should have common settings\n",
    "#alphas with different settings should be sent in a different list, for instance below list has all alphas with same settings\n",
    "\n",
    "alpha_list = [ace.generate_alpha(x, region= \"USA\", universe = \"TOP3000\",) for x in expression_list]\n",
    "\n",
    "alpha_list[0]"
   ]
  },
  {
   "cell_type": "markdown",
   "metadata": {},
   "source": [
    "This is an example - how alpha actually looks like when you send it to the platform."
   ]
  },
  {
   "cell_type": "markdown",
   "metadata": {},
   "source": [
    "### Simulate alpha list, get simulation result\n",
    "\n",
    "simulate_alpha_list_multi will do a multi-simulation if list of alphas is greater than 10, which is the case here\n",
    "\n",
    "the returned object will contain simulation results for all alphas as a list"
   ]
  },
  {
   "cell_type": "code",
   "execution_count": 19,
   "metadata": {},
   "outputs": [
    {
     "name": "stderr",
     "output_type": "stream",
     "text": [
      "100%|██████████| 4/4 [01:23<00:00, 20.77s/it]\n"
     ]
    }
   ],
   "source": [
    "#alpha expressions are sliced to first 10 for demonstration purpose\n",
    "\n",
    "result = ace.simulate_alpha_list_multi(s, alpha_list[:10])"
   ]
  },
  {
   "cell_type": "code",
   "execution_count": 20,
   "metadata": {},
   "outputs": [
    {
     "data": {
      "text/plain": [
       "10"
      ]
     },
     "execution_count": 20,
     "metadata": {},
     "output_type": "execute_result"
    }
   ],
   "source": [
    "#we received a list of 10 simulation results since we sent in alpha_list[:10]\n",
    "len(result)"
   ]
  },
  {
   "cell_type": "markdown",
   "metadata": {},
   "source": [
    "__Accessing the result of the first alpha, let's take a look at all the keys of this dictionary__"
   ]
  },
  {
   "cell_type": "code",
   "execution_count": 21,
   "metadata": {
    "scrolled": true
   },
   "outputs": [
    {
     "data": {
      "text/plain": [
       "dict_keys(['alpha_id', 'simulate_data', 'is_stats', 'pnl', 'stats', 'is_tests'])"
      ]
     },
     "execution_count": 21,
     "metadata": {},
     "output_type": "execute_result"
    }
   ],
   "source": [
    "result[0].keys()"
   ]
  },
  {
   "cell_type": "code",
   "execution_count": 22,
   "metadata": {
    "scrolled": true
   },
   "outputs": [
    {
     "data": {
      "text/html": [
       "<div>\n",
       "<style scoped>\n",
       "    .dataframe tbody tr th:only-of-type {\n",
       "        vertical-align: middle;\n",
       "    }\n",
       "\n",
       "    .dataframe tbody tr th {\n",
       "        vertical-align: top;\n",
       "    }\n",
       "\n",
       "    .dataframe thead th {\n",
       "        text-align: right;\n",
       "    }\n",
       "</style>\n",
       "<table border=\"1\" class=\"dataframe\">\n",
       "  <thead>\n",
       "    <tr style=\"text-align: right;\">\n",
       "      <th></th>\n",
       "      <th>pnl</th>\n",
       "      <th>bookSize</th>\n",
       "      <th>longCount</th>\n",
       "      <th>shortCount</th>\n",
       "      <th>turnover</th>\n",
       "      <th>returns</th>\n",
       "      <th>drawdown</th>\n",
       "      <th>margin</th>\n",
       "      <th>fitness</th>\n",
       "      <th>sharpe</th>\n",
       "      <th>alpha_id</th>\n",
       "    </tr>\n",
       "  </thead>\n",
       "  <tbody>\n",
       "    <tr>\n",
       "      <th>0</th>\n",
       "      <td>1914834</td>\n",
       "      <td>20000000</td>\n",
       "      <td>1228</td>\n",
       "      <td>1229</td>\n",
       "      <td>0.5739</td>\n",
       "      <td>0.0195</td>\n",
       "      <td>0.1282</td>\n",
       "      <td>0.000068</td>\n",
       "      <td>0.08</td>\n",
       "      <td>0.41</td>\n",
       "      <td>xPrNAAm</td>\n",
       "    </tr>\n",
       "  </tbody>\n",
       "</table>\n",
       "</div>"
      ],
      "text/plain": [
       "       pnl  bookSize  longCount  shortCount  turnover  returns  drawdown  \\\n",
       "0  1914834  20000000       1228        1229    0.5739   0.0195    0.1282   \n",
       "\n",
       "     margin  fitness  sharpe alpha_id  \n",
       "0  0.000068     0.08    0.41  xPrNAAm  "
      ]
     },
     "execution_count": 22,
     "metadata": {},
     "output_type": "execute_result"
    }
   ],
   "source": [
    "#is_stats key will return a dataframe storing IS summary results\n",
    "\n",
    "result[0]['is_stats']"
   ]
  },
  {
   "cell_type": "code",
   "execution_count": 14,
   "metadata": {},
   "outputs": [
    {
     "data": {
      "text/html": [
       "<div>\n",
       "<style scoped>\n",
       "    .dataframe tbody tr th:only-of-type {\n",
       "        vertical-align: middle;\n",
       "    }\n",
       "\n",
       "    .dataframe tbody tr th {\n",
       "        vertical-align: top;\n",
       "    }\n",
       "\n",
       "    .dataframe thead th {\n",
       "        text-align: right;\n",
       "    }\n",
       "</style>\n",
       "<table border=\"1\" class=\"dataframe\">\n",
       "  <thead>\n",
       "    <tr style=\"text-align: right;\">\n",
       "      <th></th>\n",
       "      <th>pnl</th>\n",
       "      <th>book_size</th>\n",
       "      <th>long_count</th>\n",
       "      <th>short_count</th>\n",
       "      <th>turnover</th>\n",
       "      <th>returns</th>\n",
       "      <th>drawdown</th>\n",
       "      <th>margin</th>\n",
       "      <th>fitness</th>\n",
       "      <th>sharpe</th>\n",
       "      <th>alpha_id</th>\n",
       "      <th>expression</th>\n",
       "      <th>concentrated_weight</th>\n",
       "      <th>high_turnover</th>\n",
       "      <th>is_ladder_sharpe</th>\n",
       "      <th>low_fitness</th>\n",
       "      <th>low_sharpe</th>\n",
       "      <th>low_sub_universe_sharpe</th>\n",
       "      <th>low_turnover</th>\n",
       "      <th>matches_competition</th>\n",
       "    </tr>\n",
       "  </thead>\n",
       "  <tbody>\n",
       "    <tr>\n",
       "      <th>0</th>\n",
       "      <td>2338646</td>\n",
       "      <td>20000000</td>\n",
       "      <td>1233</td>\n",
       "      <td>1195</td>\n",
       "      <td>0.0525</td>\n",
       "      <td>0.0238</td>\n",
       "      <td>0.0821</td>\n",
       "      <td>0.000906</td>\n",
       "      <td>0.25</td>\n",
       "      <td>0.57</td>\n",
       "      <td>zP3wjv8</td>\n",
       "      <td>ts_skewness(vec_avg(mws38_action),120)</td>\n",
       "      <td>FAIL</td>\n",
       "      <td>PASS</td>\n",
       "      <td>FAIL</td>\n",
       "      <td>FAIL</td>\n",
       "      <td>FAIL</td>\n",
       "      <td>PASS</td>\n",
       "      <td>PASS</td>\n",
       "      <td>PASS</td>\n",
       "    </tr>\n",
       "    <tr>\n",
       "      <th>1</th>\n",
       "      <td>7087469</td>\n",
       "      <td>20000000</td>\n",
       "      <td>1182</td>\n",
       "      <td>1529</td>\n",
       "      <td>0.0797</td>\n",
       "      <td>0.0721</td>\n",
       "      <td>0.6020</td>\n",
       "      <td>0.001808</td>\n",
       "      <td>0.24</td>\n",
       "      <td>0.31</td>\n",
       "      <td>o3EwAlb</td>\n",
       "      <td>ts_skewness(vec_avg(mws38_negative_freq),120)</td>\n",
       "      <td>FAIL</td>\n",
       "      <td>PASS</td>\n",
       "      <td>FAIL</td>\n",
       "      <td>FAIL</td>\n",
       "      <td>FAIL</td>\n",
       "      <td>FAIL</td>\n",
       "      <td>PASS</td>\n",
       "      <td>PASS</td>\n",
       "    </tr>\n",
       "    <tr>\n",
       "      <th>2</th>\n",
       "      <td>70758</td>\n",
       "      <td>20000000</td>\n",
       "      <td>1335</td>\n",
       "      <td>1169</td>\n",
       "      <td>0.0544</td>\n",
       "      <td>0.0007</td>\n",
       "      <td>0.0646</td>\n",
       "      <td>0.000026</td>\n",
       "      <td>0.00</td>\n",
       "      <td>0.02</td>\n",
       "      <td>X29wPnb</td>\n",
       "      <td>ts_skewness(vec_avg(mws38_negative_score),120)</td>\n",
       "      <td>PASS</td>\n",
       "      <td>PASS</td>\n",
       "      <td>FAIL</td>\n",
       "      <td>FAIL</td>\n",
       "      <td>FAIL</td>\n",
       "      <td>PASS</td>\n",
       "      <td>PASS</td>\n",
       "      <td>PASS</td>\n",
       "    </tr>\n",
       "    <tr>\n",
       "      <th>3</th>\n",
       "      <td>-508710</td>\n",
       "      <td>20000000</td>\n",
       "      <td>1441</td>\n",
       "      <td>1343</td>\n",
       "      <td>0.0609</td>\n",
       "      <td>-0.0052</td>\n",
       "      <td>0.1415</td>\n",
       "      <td>-0.000170</td>\n",
       "      <td>-0.04</td>\n",
       "      <td>-0.22</td>\n",
       "      <td>7aLq012</td>\n",
       "      <td>ts_skewness(vec_avg(mws38_headlinetones_time),...</td>\n",
       "      <td>PASS</td>\n",
       "      <td>PASS</td>\n",
       "      <td>FAIL</td>\n",
       "      <td>FAIL</td>\n",
       "      <td>FAIL</td>\n",
       "      <td>PASS</td>\n",
       "      <td>PASS</td>\n",
       "      <td>PASS</td>\n",
       "    </tr>\n",
       "    <tr>\n",
       "      <th>4</th>\n",
       "      <td>-793456</td>\n",
       "      <td>20000000</td>\n",
       "      <td>1484</td>\n",
       "      <td>1299</td>\n",
       "      <td>0.0602</td>\n",
       "      <td>-0.0081</td>\n",
       "      <td>0.1587</td>\n",
       "      <td>-0.000268</td>\n",
       "      <td>-0.09</td>\n",
       "      <td>-0.35</td>\n",
       "      <td>GMW0YLQ</td>\n",
       "      <td>ts_skewness(vec_avg(mws38_headlinetones_tc_tim...</td>\n",
       "      <td>PASS</td>\n",
       "      <td>PASS</td>\n",
       "      <td>FAIL</td>\n",
       "      <td>FAIL</td>\n",
       "      <td>FAIL</td>\n",
       "      <td>PASS</td>\n",
       "      <td>PASS</td>\n",
       "      <td>PASS</td>\n",
       "    </tr>\n",
       "    <tr>\n",
       "      <th>5</th>\n",
       "      <td>-1224111</td>\n",
       "      <td>20000000</td>\n",
       "      <td>1458</td>\n",
       "      <td>1325</td>\n",
       "      <td>0.0503</td>\n",
       "      <td>-0.0124</td>\n",
       "      <td>0.2607</td>\n",
       "      <td>-0.000495</td>\n",
       "      <td>-0.09</td>\n",
       "      <td>-0.29</td>\n",
       "      <td>zP3wQoK</td>\n",
       "      <td>ts_skewness(vec_avg(mws38_headlinetones_sg_ent...</td>\n",
       "      <td>PASS</td>\n",
       "      <td>PASS</td>\n",
       "      <td>FAIL</td>\n",
       "      <td>FAIL</td>\n",
       "      <td>FAIL</td>\n",
       "      <td>FAIL</td>\n",
       "      <td>PASS</td>\n",
       "      <td>PASS</td>\n",
       "    </tr>\n",
       "    <tr>\n",
       "      <th>6</th>\n",
       "      <td>-793456</td>\n",
       "      <td>20000000</td>\n",
       "      <td>1484</td>\n",
       "      <td>1299</td>\n",
       "      <td>0.0602</td>\n",
       "      <td>-0.0081</td>\n",
       "      <td>0.1587</td>\n",
       "      <td>-0.000268</td>\n",
       "      <td>-0.09</td>\n",
       "      <td>-0.35</td>\n",
       "      <td>Eg60YaJ</td>\n",
       "      <td>ts_skewness(vec_avg(mws38_headlinetones_sg_tim...</td>\n",
       "      <td>PASS</td>\n",
       "      <td>PASS</td>\n",
       "      <td>FAIL</td>\n",
       "      <td>FAIL</td>\n",
       "      <td>FAIL</td>\n",
       "      <td>PASS</td>\n",
       "      <td>PASS</td>\n",
       "      <td>PASS</td>\n",
       "    </tr>\n",
       "    <tr>\n",
       "      <th>7</th>\n",
       "      <td>-1224111</td>\n",
       "      <td>20000000</td>\n",
       "      <td>1458</td>\n",
       "      <td>1325</td>\n",
       "      <td>0.0503</td>\n",
       "      <td>-0.0124</td>\n",
       "      <td>0.2607</td>\n",
       "      <td>-0.000495</td>\n",
       "      <td>-0.09</td>\n",
       "      <td>-0.29</td>\n",
       "      <td>rJR6EzJ</td>\n",
       "      <td>ts_skewness(vec_avg(mws38_headlinetones_tc_ent...</td>\n",
       "      <td>PASS</td>\n",
       "      <td>PASS</td>\n",
       "      <td>FAIL</td>\n",
       "      <td>FAIL</td>\n",
       "      <td>FAIL</td>\n",
       "      <td>FAIL</td>\n",
       "      <td>PASS</td>\n",
       "      <td>PASS</td>\n",
       "    </tr>\n",
       "    <tr>\n",
       "      <th>8</th>\n",
       "      <td>-1916107</td>\n",
       "      <td>20000000</td>\n",
       "      <td>1421</td>\n",
       "      <td>1362</td>\n",
       "      <td>0.0499</td>\n",
       "      <td>-0.0195</td>\n",
       "      <td>0.3051</td>\n",
       "      <td>-0.000782</td>\n",
       "      <td>-0.18</td>\n",
       "      <td>-0.46</td>\n",
       "      <td>Eg60bZm</td>\n",
       "      <td>ts_skewness(vec_avg(mws38_entitlement),120)</td>\n",
       "      <td>PASS</td>\n",
       "      <td>PASS</td>\n",
       "      <td>FAIL</td>\n",
       "      <td>FAIL</td>\n",
       "      <td>FAIL</td>\n",
       "      <td>FAIL</td>\n",
       "      <td>PASS</td>\n",
       "      <td>PASS</td>\n",
       "    </tr>\n",
       "    <tr>\n",
       "      <th>9</th>\n",
       "      <td>-1916107</td>\n",
       "      <td>20000000</td>\n",
       "      <td>1421</td>\n",
       "      <td>1362</td>\n",
       "      <td>0.0499</td>\n",
       "      <td>-0.0195</td>\n",
       "      <td>0.3051</td>\n",
       "      <td>-0.000782</td>\n",
       "      <td>-0.18</td>\n",
       "      <td>-0.46</td>\n",
       "      <td>LgMb6Pm</td>\n",
       "      <td>ts_skewness(vec_avg(mws38_headlinetones_entitl...</td>\n",
       "      <td>PASS</td>\n",
       "      <td>PASS</td>\n",
       "      <td>FAIL</td>\n",
       "      <td>FAIL</td>\n",
       "      <td>FAIL</td>\n",
       "      <td>FAIL</td>\n",
       "      <td>PASS</td>\n",
       "      <td>PASS</td>\n",
       "    </tr>\n",
       "  </tbody>\n",
       "</table>\n",
       "</div>"
      ],
      "text/plain": [
       "       pnl  book_size  long_count  short_count  turnover  returns  drawdown  \\\n",
       "0  2338646   20000000        1233         1195    0.0525   0.0238    0.0821   \n",
       "1  7087469   20000000        1182         1529    0.0797   0.0721    0.6020   \n",
       "2    70758   20000000        1335         1169    0.0544   0.0007    0.0646   \n",
       "3  -508710   20000000        1441         1343    0.0609  -0.0052    0.1415   \n",
       "4  -793456   20000000        1484         1299    0.0602  -0.0081    0.1587   \n",
       "5 -1224111   20000000        1458         1325    0.0503  -0.0124    0.2607   \n",
       "6  -793456   20000000        1484         1299    0.0602  -0.0081    0.1587   \n",
       "7 -1224111   20000000        1458         1325    0.0503  -0.0124    0.2607   \n",
       "8 -1916107   20000000        1421         1362    0.0499  -0.0195    0.3051   \n",
       "9 -1916107   20000000        1421         1362    0.0499  -0.0195    0.3051   \n",
       "\n",
       "     margin  fitness  sharpe alpha_id  \\\n",
       "0  0.000906     0.25    0.57  zP3wjv8   \n",
       "1  0.001808     0.24    0.31  o3EwAlb   \n",
       "2  0.000026     0.00    0.02  X29wPnb   \n",
       "3 -0.000170    -0.04   -0.22  7aLq012   \n",
       "4 -0.000268    -0.09   -0.35  GMW0YLQ   \n",
       "5 -0.000495    -0.09   -0.29  zP3wQoK   \n",
       "6 -0.000268    -0.09   -0.35  Eg60YaJ   \n",
       "7 -0.000495    -0.09   -0.29  rJR6EzJ   \n",
       "8 -0.000782    -0.18   -0.46  Eg60bZm   \n",
       "9 -0.000782    -0.18   -0.46  LgMb6Pm   \n",
       "\n",
       "                                          expression concentrated_weight  \\\n",
       "0             ts_skewness(vec_avg(mws38_action),120)                FAIL   \n",
       "1      ts_skewness(vec_avg(mws38_negative_freq),120)                FAIL   \n",
       "2     ts_skewness(vec_avg(mws38_negative_score),120)                PASS   \n",
       "3  ts_skewness(vec_avg(mws38_headlinetones_time),...                PASS   \n",
       "4  ts_skewness(vec_avg(mws38_headlinetones_tc_tim...                PASS   \n",
       "5  ts_skewness(vec_avg(mws38_headlinetones_sg_ent...                PASS   \n",
       "6  ts_skewness(vec_avg(mws38_headlinetones_sg_tim...                PASS   \n",
       "7  ts_skewness(vec_avg(mws38_headlinetones_tc_ent...                PASS   \n",
       "8        ts_skewness(vec_avg(mws38_entitlement),120)                PASS   \n",
       "9  ts_skewness(vec_avg(mws38_headlinetones_entitl...                PASS   \n",
       "\n",
       "  high_turnover is_ladder_sharpe low_fitness low_sharpe  \\\n",
       "0          PASS             FAIL        FAIL       FAIL   \n",
       "1          PASS             FAIL        FAIL       FAIL   \n",
       "2          PASS             FAIL        FAIL       FAIL   \n",
       "3          PASS             FAIL        FAIL       FAIL   \n",
       "4          PASS             FAIL        FAIL       FAIL   \n",
       "5          PASS             FAIL        FAIL       FAIL   \n",
       "6          PASS             FAIL        FAIL       FAIL   \n",
       "7          PASS             FAIL        FAIL       FAIL   \n",
       "8          PASS             FAIL        FAIL       FAIL   \n",
       "9          PASS             FAIL        FAIL       FAIL   \n",
       "\n",
       "  low_sub_universe_sharpe low_turnover matches_competition  \n",
       "0                    PASS         PASS                PASS  \n",
       "1                    FAIL         PASS                PASS  \n",
       "2                    PASS         PASS                PASS  \n",
       "3                    PASS         PASS                PASS  \n",
       "4                    PASS         PASS                PASS  \n",
       "5                    FAIL         PASS                PASS  \n",
       "6                    PASS         PASS                PASS  \n",
       "7                    FAIL         PASS                PASS  \n",
       "8                    FAIL         PASS                PASS  \n",
       "9                    FAIL         PASS                PASS  "
      ]
     },
     "execution_count": 14,
     "metadata": {},
     "output_type": "execute_result"
    }
   ],
   "source": [
    "#prettify_result function can be used from the helpful_functions library to take a look at IS stats of all the simulated alphas\n",
    "\n",
    "result_st1 = hf.prettify_result(result, detailed_tests_view=False)\n",
    "result_st1"
   ]
  },
  {
   "cell_type": "markdown",
   "metadata": {},
   "source": [
    "### Visualise pnl of an alpha"
   ]
  },
  {
   "cell_type": "code",
   "execution_count": 23,
   "metadata": {},
   "outputs": [
    {
     "ename": "NameError",
     "evalue": "name 'result_st1' is not defined",
     "output_type": "error",
     "traceback": [
      "\u001b[1;31m---------------------------------------------------------------------------\u001b[0m",
      "\u001b[1;31mNameError\u001b[0m                                 Traceback (most recent call last)",
      "Cell \u001b[1;32mIn[23], line 1\u001b[0m\n\u001b[1;32m----> 1\u001b[0m alpha_pnl \u001b[38;5;241m=\u001b[39m ace\u001b[38;5;241m.\u001b[39mget_alpha_pnl(s, \u001b[43mresult_st1\u001b[49m[\u001b[38;5;124m'\u001b[39m\u001b[38;5;124malpha_id\u001b[39m\u001b[38;5;124m'\u001b[39m][\u001b[38;5;241m0\u001b[39m])\n\u001b[0;32m      2\u001b[0m px\u001b[38;5;241m.\u001b[39mline(x \u001b[38;5;241m=\u001b[39m alpha_pnl\u001b[38;5;241m.\u001b[39mindex, y \u001b[38;5;241m=\u001b[39m alpha_pnl\u001b[38;5;241m.\u001b[39mPnl, title\u001b[38;5;241m=\u001b[39m\u001b[38;5;124mf\u001b[39m\u001b[38;5;124m'\u001b[39m\u001b[38;5;124m<b>alpha_id=\u001b[39m\u001b[38;5;132;01m{\u001b[39;00mhf\u001b[38;5;241m.\u001b[39mmake_clickable_alpha_id(alpha_pnl\u001b[38;5;241m.\u001b[39malpha_id[\u001b[38;5;241m0\u001b[39m])\u001b[38;5;132;01m}\u001b[39;00m\u001b[38;5;124m</b>\u001b[39m\u001b[38;5;124m'\u001b[39m)\\\n\u001b[0;32m      3\u001b[0m     \u001b[38;5;241m.\u001b[39mupdate_layout(xaxis_title\u001b[38;5;241m=\u001b[39m\u001b[38;5;124m\"\u001b[39m\u001b[38;5;124mDate\u001b[39m\u001b[38;5;124m\"\u001b[39m, yaxis_title\u001b[38;5;241m=\u001b[39m\u001b[38;5;124m\"\u001b[39m\u001b[38;5;124mPnl\u001b[39m\u001b[38;5;124m\"\u001b[39m, title_x\u001b[38;5;241m=\u001b[39m\u001b[38;5;241m0.5\u001b[39m)\n",
      "\u001b[1;31mNameError\u001b[0m: name 'result_st1' is not defined"
     ]
    }
   ],
   "source": [
    "alpha_pnl = ace.get_alpha_pnl(s, result_st1['alpha_id'][0])\n",
    "px.line(x = alpha_pnl.index, y = alpha_pnl.Pnl, title=f'<b>alpha_id={hf.make_clickable_alpha_id(alpha_pnl.alpha_id[0])}</b>')\\\n",
    "    .update_layout(xaxis_title=\"Date\", yaxis_title=\"Pnl\", title_x=0.5)"
   ]
  },
  {
   "cell_type": "markdown",
   "metadata": {},
   "source": [
    "### Select prospect alphas, that are worth improving (in your opinion)\n",
    "In this example we are selecting alphas with high fitness, to resimulate it with improved logic"
   ]
  },
  {
   "cell_type": "code",
   "execution_count": 24,
   "metadata": {
    "scrolled": true
   },
   "outputs": [
    {
     "ename": "NameError",
     "evalue": "name 'result_st1' is not defined",
     "output_type": "error",
     "traceback": [
      "\u001b[1;31m---------------------------------------------------------------------------\u001b[0m",
      "\u001b[1;31mNameError\u001b[0m                                 Traceback (most recent call last)",
      "Cell \u001b[1;32mIn[24], line 1\u001b[0m\n\u001b[1;32m----> 1\u001b[0m prospect_alphas \u001b[38;5;241m=\u001b[39m \u001b[43mresult_st1\u001b[49m\u001b[38;5;241m.\u001b[39mloc[\u001b[38;5;28;01mlambda\u001b[39;00m x: x\u001b[38;5;241m.\u001b[39mfitness\u001b[38;5;241m>\u001b[39m\u001b[38;5;241m0.2\u001b[39m][\u001b[38;5;124m'\u001b[39m\u001b[38;5;124mexpression\u001b[39m\u001b[38;5;124m'\u001b[39m]\u001b[38;5;241m.\u001b[39mvalues\n\u001b[0;32m      2\u001b[0m prospect_alphas\n",
      "\u001b[1;31mNameError\u001b[0m: name 'result_st1' is not defined"
     ]
    }
   ],
   "source": [
    "prospect_alphas = result_st1.loc[lambda x: x.fitness>0.2]['expression'].values\n",
    "prospect_alphas"
   ]
  },
  {
   "cell_type": "markdown",
   "metadata": {},
   "source": [
    "### Change the expression - what would you do to improve alpha's results?\n",
    "<br>Use your own logic to improve the alphas.</br>\n",
    "<br>Here we will apply **group_rank** to overcome poor weight distribution.</br>"
   ]
  },
  {
   "cell_type": "code",
   "execution_count": 17,
   "metadata": {},
   "outputs": [
    {
     "data": {
      "text/plain": [
       "['group_rank(ts_skewness(vec_avg(mws38_action),120),sector)',\n",
       " 'group_rank(ts_skewness(vec_avg(mws38_negative_freq),120),sector)']"
      ]
     },
     "execution_count": 17,
     "metadata": {},
     "output_type": "execute_result"
    }
   ],
   "source": [
    "\n",
    "new_expression_list = ['group_rank(' + a + ',sector)' for a in prospect_alphas]\n",
    "new_expression_list"
   ]
  },
  {
   "cell_type": "code",
   "execution_count": 18,
   "metadata": {},
   "outputs": [],
   "source": [
    "#generating new simulation data for new expressions\n",
    "\n",
    "new_alpha_list = [ace.generate_alpha(x, region= \"USA\", universe = \"TOP3000\",) for x in new_expression_list]"
   ]
  },
  {
   "cell_type": "markdown",
   "metadata": {},
   "source": [
    "### Re-simulation"
   ]
  },
  {
   "cell_type": "code",
   "execution_count": 19,
   "metadata": {},
   "outputs": [
    {
     "name": "stdout",
     "output_type": "stream",
     "text": [
      "Warning, list of alphas too short, single concurrent simulations will be used instead of multisimulations\n"
     ]
    },
    {
     "name": "stderr",
     "output_type": "stream",
     "text": [
      "100%|██████████| 2/2 [01:28<00:00, 44.17s/it]\n"
     ]
    }
   ],
   "source": [
    "new_result = ace.simulate_alpha_list_multi(s, new_alpha_list)"
   ]
  },
  {
   "cell_type": "code",
   "execution_count": 20,
   "metadata": {},
   "outputs": [
    {
     "data": {
      "text/html": [
       "<div>\n",
       "<style scoped>\n",
       "    .dataframe tbody tr th:only-of-type {\n",
       "        vertical-align: middle;\n",
       "    }\n",
       "\n",
       "    .dataframe tbody tr th {\n",
       "        vertical-align: top;\n",
       "    }\n",
       "\n",
       "    .dataframe thead th {\n",
       "        text-align: right;\n",
       "    }\n",
       "</style>\n",
       "<table border=\"1\" class=\"dataframe\">\n",
       "  <thead>\n",
       "    <tr style=\"text-align: right;\">\n",
       "      <th></th>\n",
       "      <th>pnl</th>\n",
       "      <th>book_size</th>\n",
       "      <th>long_count</th>\n",
       "      <th>short_count</th>\n",
       "      <th>turnover</th>\n",
       "      <th>returns</th>\n",
       "      <th>drawdown</th>\n",
       "      <th>margin</th>\n",
       "      <th>fitness</th>\n",
       "      <th>sharpe</th>\n",
       "      <th>alpha_id</th>\n",
       "      <th>expression</th>\n",
       "      <th>concentrated_weight</th>\n",
       "      <th>high_turnover</th>\n",
       "      <th>is_ladder_sharpe</th>\n",
       "      <th>low_fitness</th>\n",
       "      <th>low_sharpe</th>\n",
       "      <th>low_sub_universe_sharpe</th>\n",
       "      <th>low_turnover</th>\n",
       "      <th>matches_competition</th>\n",
       "    </tr>\n",
       "  </thead>\n",
       "  <tbody>\n",
       "    <tr>\n",
       "      <th>0</th>\n",
       "      <td>2302572</td>\n",
       "      <td>20000000</td>\n",
       "      <td>1214</td>\n",
       "      <td>1214</td>\n",
       "      <td>0.0512</td>\n",
       "      <td>0.0234</td>\n",
       "      <td>0.0727</td>\n",
       "      <td>0.000915</td>\n",
       "      <td>0.28</td>\n",
       "      <td>0.65</td>\n",
       "      <td>dEW8m8X</td>\n",
       "      <td>group_rank(ts_skewness(vec_avg(mws38_action),1...</td>\n",
       "      <td>FAIL</td>\n",
       "      <td>PASS</td>\n",
       "      <td>FAIL</td>\n",
       "      <td>FAIL</td>\n",
       "      <td>FAIL</td>\n",
       "      <td>PASS</td>\n",
       "      <td>PASS</td>\n",
       "      <td>PASS</td>\n",
       "    </tr>\n",
       "    <tr>\n",
       "      <th>1</th>\n",
       "      <td>56156</td>\n",
       "      <td>20000000</td>\n",
       "      <td>1348</td>\n",
       "      <td>1362</td>\n",
       "      <td>0.0566</td>\n",
       "      <td>0.0006</td>\n",
       "      <td>0.1057</td>\n",
       "      <td>0.000020</td>\n",
       "      <td>0.00</td>\n",
       "      <td>0.02</td>\n",
       "      <td>ve1n9zr</td>\n",
       "      <td>group_rank(ts_skewness(vec_avg(mws38_negative_...</td>\n",
       "      <td>PASS</td>\n",
       "      <td>PASS</td>\n",
       "      <td>FAIL</td>\n",
       "      <td>FAIL</td>\n",
       "      <td>FAIL</td>\n",
       "      <td>FAIL</td>\n",
       "      <td>PASS</td>\n",
       "      <td>PASS</td>\n",
       "    </tr>\n",
       "  </tbody>\n",
       "</table>\n",
       "</div>"
      ],
      "text/plain": [
       "       pnl  book_size  long_count  short_count  turnover  returns  drawdown  \\\n",
       "0  2302572   20000000        1214         1214    0.0512   0.0234    0.0727   \n",
       "1    56156   20000000        1348         1362    0.0566   0.0006    0.1057   \n",
       "\n",
       "     margin  fitness  sharpe alpha_id  \\\n",
       "0  0.000915     0.28    0.65  dEW8m8X   \n",
       "1  0.000020     0.00    0.02  ve1n9zr   \n",
       "\n",
       "                                          expression concentrated_weight  \\\n",
       "0  group_rank(ts_skewness(vec_avg(mws38_action),1...                FAIL   \n",
       "1  group_rank(ts_skewness(vec_avg(mws38_negative_...                PASS   \n",
       "\n",
       "  high_turnover is_ladder_sharpe low_fitness low_sharpe  \\\n",
       "0          PASS             FAIL        FAIL       FAIL   \n",
       "1          PASS             FAIL        FAIL       FAIL   \n",
       "\n",
       "  low_sub_universe_sharpe low_turnover matches_competition  \n",
       "0                    PASS         PASS                PASS  \n",
       "1                    FAIL         PASS                PASS  "
      ]
     },
     "execution_count": 20,
     "metadata": {},
     "output_type": "execute_result"
    }
   ],
   "source": [
    "result_st2 = hf.prettify_result(new_result, clickable_alpha_id=False)\n",
    "result_st2"
   ]
  },
  {
   "cell_type": "markdown",
   "metadata": {},
   "source": [
    "#### Compare alphas stats before and after changes:"
   ]
  },
  {
   "cell_type": "code",
   "execution_count": 21,
   "metadata": {},
   "outputs": [],
   "source": [
    "## We will join before and after dataframes by field\n",
    "\n",
    "result_st1['field'] = result_st1['expression'].apply(lambda st: st[st.find(\"(vec_avg(\")+1:st.find(\",\")]).copy()\n",
    "result_st2['field'] = result_st2['expression'].apply(lambda st: st[st.find(\"(vec_avg(\")+1:st.find(\",\")]).copy()"
   ]
  },
  {
   "cell_type": "code",
   "execution_count": 22,
   "metadata": {},
   "outputs": [],
   "source": [
    "#merging results before and after improvement\n",
    "\n",
    "compare_results = pd.merge(result_st1, result_st2, on='field', suffixes=('_before', '_after'))"
   ]
  },
  {
   "cell_type": "code",
   "execution_count": 23,
   "metadata": {},
   "outputs": [
    {
     "data": {
      "text/html": [
       "<style type=\"text/css\">\n",
       "</style>\n",
       "<table id=\"T_49a88\">\n",
       "  <thead>\n",
       "    <tr>\n",
       "      <th class=\"blank level0\" >&nbsp;</th>\n",
       "      <th id=\"T_49a88_level0_col0\" class=\"col_heading level0 col0\" >fitness_before</th>\n",
       "      <th id=\"T_49a88_level0_col1\" class=\"col_heading level0 col1\" >fitness_after</th>\n",
       "      <th id=\"T_49a88_level0_col2\" class=\"col_heading level0 col2\" >sharpe_before</th>\n",
       "      <th id=\"T_49a88_level0_col3\" class=\"col_heading level0 col3\" >sharpe_after</th>\n",
       "      <th id=\"T_49a88_level0_col4\" class=\"col_heading level0 col4\" >alpha_id_before</th>\n",
       "      <th id=\"T_49a88_level0_col5\" class=\"col_heading level0 col5\" >alpha_id_after</th>\n",
       "      <th id=\"T_49a88_level0_col6\" class=\"col_heading level0 col6\" >expression_before</th>\n",
       "      <th id=\"T_49a88_level0_col7\" class=\"col_heading level0 col7\" >expression_after</th>\n",
       "    </tr>\n",
       "  </thead>\n",
       "  <tbody>\n",
       "    <tr>\n",
       "      <th id=\"T_49a88_level0_row0\" class=\"row_heading level0 row0\" >0</th>\n",
       "      <td id=\"T_49a88_row0_col0\" class=\"data row0 col0\" >0.250000</td>\n",
       "      <td id=\"T_49a88_row0_col1\" class=\"data row0 col1\" >0.280000</td>\n",
       "      <td id=\"T_49a88_row0_col2\" class=\"data row0 col2\" >0.570000</td>\n",
       "      <td id=\"T_49a88_row0_col3\" class=\"data row0 col3\" >0.650000</td>\n",
       "      <td id=\"T_49a88_row0_col4\" class=\"data row0 col4\" ><a href=\"https://platform.worldquantbrain.com/alpha/zP3wjv8\">zP3wjv8</a></td>\n",
       "      <td id=\"T_49a88_row0_col5\" class=\"data row0 col5\" ><a href=\"https://platform.worldquantbrain.com/alpha/dEW8m8X\">dEW8m8X</a></td>\n",
       "      <td id=\"T_49a88_row0_col6\" class=\"data row0 col6\" >ts_skewness(vec_avg(mws38_action),120)</td>\n",
       "      <td id=\"T_49a88_row0_col7\" class=\"data row0 col7\" >group_rank(ts_skewness(vec_avg(mws38_action),120),sector)</td>\n",
       "    </tr>\n",
       "    <tr>\n",
       "      <th id=\"T_49a88_level0_row1\" class=\"row_heading level0 row1\" >1</th>\n",
       "      <td id=\"T_49a88_row1_col0\" class=\"data row1 col0\" >0.240000</td>\n",
       "      <td id=\"T_49a88_row1_col1\" class=\"data row1 col1\" >0.000000</td>\n",
       "      <td id=\"T_49a88_row1_col2\" class=\"data row1 col2\" >0.310000</td>\n",
       "      <td id=\"T_49a88_row1_col3\" class=\"data row1 col3\" >0.020000</td>\n",
       "      <td id=\"T_49a88_row1_col4\" class=\"data row1 col4\" ><a href=\"https://platform.worldquantbrain.com/alpha/o3EwAlb\">o3EwAlb</a></td>\n",
       "      <td id=\"T_49a88_row1_col5\" class=\"data row1 col5\" ><a href=\"https://platform.worldquantbrain.com/alpha/ve1n9zr\">ve1n9zr</a></td>\n",
       "      <td id=\"T_49a88_row1_col6\" class=\"data row1 col6\" >ts_skewness(vec_avg(mws38_negative_freq),120)</td>\n",
       "      <td id=\"T_49a88_row1_col7\" class=\"data row1 col7\" >group_rank(ts_skewness(vec_avg(mws38_negative_freq),120),sector)</td>\n",
       "    </tr>\n",
       "  </tbody>\n",
       "</table>\n"
      ],
      "text/plain": [
       "<pandas.io.formats.style.Styler at 0x26dba19bee0>"
      ]
     },
     "execution_count": 23,
     "metadata": {},
     "output_type": "execute_result"
    }
   ],
   "source": [
    "#selecting column list returned by merging the two alpha results\n",
    "\n",
    "col_list = ['fitness_before', 'fitness_after','sharpe_before', 'sharpe_after', 'alpha_id_before', 'alpha_id_after',\n",
    "                 'expression_before', 'expression_after']\n",
    "\n",
    "compare_results[col_list]\\\n",
    "    .style.format({'alpha_id_before': hf.make_clickable_alpha_id, 'alpha_id_after': hf.make_clickable_alpha_id})"
   ]
  },
  {
   "cell_type": "markdown",
   "metadata": {},
   "source": [
    "### Check merged alpha performance\n",
    "\n",
    "run the following code to do a before and after comparison of your merged pool post alpha submission"
   ]
  },
  {
   "cell_type": "code",
   "execution_count": 24,
   "metadata": {},
   "outputs": [
    {
     "data": {
      "text/plain": [
       "{'before': 0, 'after': 899.0}"
      ]
     },
     "execution_count": 24,
     "metadata": {},
     "output_type": "execute_result"
    }
   ],
   "source": [
    "performance_comparison = ace.performance_comparison(s, result_st2['alpha_id'][0])\n",
    "performance_comparison['score']"
   ]
  },
  {
   "cell_type": "markdown",
   "metadata": {},
   "source": [
    "### How to submit?\n",
    "\n",
    "Create a list of submittable alphas - alphas that have no FAIL in is_tests"
   ]
  },
  {
   "cell_type": "code",
   "execution_count": 25,
   "metadata": {},
   "outputs": [
    {
     "data": {
      "text/html": [
       "<div>\n",
       "<style scoped>\n",
       "    .dataframe tbody tr th:only-of-type {\n",
       "        vertical-align: middle;\n",
       "    }\n",
       "\n",
       "    .dataframe tbody tr th {\n",
       "        vertical-align: top;\n",
       "    }\n",
       "\n",
       "    .dataframe thead th {\n",
       "        text-align: right;\n",
       "    }\n",
       "</style>\n",
       "<table border=\"1\" class=\"dataframe\">\n",
       "  <thead>\n",
       "    <tr style=\"text-align: right;\">\n",
       "      <th></th>\n",
       "      <th>name</th>\n",
       "      <th>result</th>\n",
       "      <th>limit</th>\n",
       "      <th>value</th>\n",
       "      <th>matched</th>\n",
       "      <th>unmatched</th>\n",
       "      <th>year</th>\n",
       "      <th>startDate</th>\n",
       "      <th>endDate</th>\n",
       "      <th>alpha_id</th>\n",
       "    </tr>\n",
       "  </thead>\n",
       "  <tbody>\n",
       "    <tr>\n",
       "      <th>0</th>\n",
       "      <td>LOW_SHARPE</td>\n",
       "      <td>FAIL</td>\n",
       "      <td>1.58</td>\n",
       "      <td>0.6500</td>\n",
       "      <td>NaN</td>\n",
       "      <td>NaN</td>\n",
       "      <td>NaN</td>\n",
       "      <td>NaN</td>\n",
       "      <td>NaN</td>\n",
       "      <td>dEW8m8X</td>\n",
       "    </tr>\n",
       "    <tr>\n",
       "      <th>1</th>\n",
       "      <td>LOW_FITNESS</td>\n",
       "      <td>FAIL</td>\n",
       "      <td>1.00</td>\n",
       "      <td>0.2800</td>\n",
       "      <td>NaN</td>\n",
       "      <td>NaN</td>\n",
       "      <td>NaN</td>\n",
       "      <td>NaN</td>\n",
       "      <td>NaN</td>\n",
       "      <td>dEW8m8X</td>\n",
       "    </tr>\n",
       "    <tr>\n",
       "      <th>2</th>\n",
       "      <td>LOW_TURNOVER</td>\n",
       "      <td>PASS</td>\n",
       "      <td>0.01</td>\n",
       "      <td>0.0512</td>\n",
       "      <td>NaN</td>\n",
       "      <td>NaN</td>\n",
       "      <td>NaN</td>\n",
       "      <td>NaN</td>\n",
       "      <td>NaN</td>\n",
       "      <td>dEW8m8X</td>\n",
       "    </tr>\n",
       "    <tr>\n",
       "      <th>3</th>\n",
       "      <td>HIGH_TURNOVER</td>\n",
       "      <td>PASS</td>\n",
       "      <td>0.70</td>\n",
       "      <td>0.0512</td>\n",
       "      <td>NaN</td>\n",
       "      <td>NaN</td>\n",
       "      <td>NaN</td>\n",
       "      <td>NaN</td>\n",
       "      <td>NaN</td>\n",
       "      <td>dEW8m8X</td>\n",
       "    </tr>\n",
       "    <tr>\n",
       "      <th>4</th>\n",
       "      <td>CONCENTRATED_WEIGHT</td>\n",
       "      <td>FAIL</td>\n",
       "      <td>NaN</td>\n",
       "      <td>NaN</td>\n",
       "      <td>NaN</td>\n",
       "      <td>NaN</td>\n",
       "      <td>NaN</td>\n",
       "      <td>NaN</td>\n",
       "      <td>NaN</td>\n",
       "      <td>dEW8m8X</td>\n",
       "    </tr>\n",
       "  </tbody>\n",
       "</table>\n",
       "</div>"
      ],
      "text/plain": [
       "                  name result  limit   value matched unmatched  year  \\\n",
       "0           LOW_SHARPE   FAIL   1.58  0.6500     NaN       NaN   NaN   \n",
       "1          LOW_FITNESS   FAIL   1.00  0.2800     NaN       NaN   NaN   \n",
       "2         LOW_TURNOVER   PASS   0.01  0.0512     NaN       NaN   NaN   \n",
       "3        HIGH_TURNOVER   PASS   0.70  0.0512     NaN       NaN   NaN   \n",
       "4  CONCENTRATED_WEIGHT   FAIL    NaN     NaN     NaN       NaN   NaN   \n",
       "\n",
       "  startDate endDate alpha_id  \n",
       "0       NaN     NaN  dEW8m8X  \n",
       "1       NaN     NaN  dEW8m8X  \n",
       "2       NaN     NaN  dEW8m8X  \n",
       "3       NaN     NaN  dEW8m8X  \n",
       "4       NaN     NaN  dEW8m8X  "
      ]
     },
     "execution_count": 25,
     "metadata": {},
     "output_type": "execute_result"
    }
   ],
   "source": [
    "#to take a look at the combined result of all new alphas\n",
    "\n",
    "is_tests_df = hf.concat_is_tests(new_result)\n",
    "is_tests_df.head()"
   ]
  },
  {
   "cell_type": "code",
   "execution_count": 26,
   "metadata": {},
   "outputs": [
    {
     "name": "stdout",
     "output_type": "stream",
     "text": [
      "Failed alphas:['dEW8m8X' 've1n9zr']\n",
      "Passed alphas:[]\n"
     ]
    }
   ],
   "source": [
    "#making a list of failed alphas\n",
    "failed_alphas = is_tests_df.query('result==\"FAIL\"')['alpha_id'].unique()\n",
    "\n",
    "#making a list of passed alphas\n",
    "passed_alphas = list(set(is_tests_df['alpha_id']).difference(failed_alphas))\n",
    "\n",
    "print(f'Failed alphas:{failed_alphas}\\nPassed alphas:{passed_alphas}')"
   ]
  },
  {
   "cell_type": "markdown",
   "metadata": {},
   "source": [
    "When you got a list of submittable alphas, you can call function submit_alpha()"
   ]
  },
  {
   "cell_type": "code",
   "execution_count": 27,
   "metadata": {},
   "outputs": [],
   "source": [
    "#calling submit_alpha on all alphas that have passed the submission tests\n",
    "\n",
    "submit_result = {alpha_id: submit_alpha(s, alpha_id) for alpha_id in passed_alphas}"
   ]
  },
  {
   "cell_type": "code",
   "execution_count": 28,
   "metadata": {},
   "outputs": [
    {
     "data": {
      "text/plain": [
       "{}"
      ]
     },
     "execution_count": 28,
     "metadata": {},
     "output_type": "execute_result"
    }
   ],
   "source": [
    "#submit_result will have return values from the submit_result function\n",
    "\n",
    "submit_result"
   ]
  },
  {
   "cell_type": "markdown",
   "metadata": {},
   "source": [
    "### Library Fuctions.\n",
    "\n",
    "following are some other functions that you can use for your own analysis\n",
    "\n",
    "**get_alpha_pnl(s, alpha_id)** - to get the pnl for an alpha\n",
    "\n",
    "**get_alpha_yearly_stats(s, alpha_id)** - to get yearly statistics for an alpha\n",
    "\n",
    "**get_self_corr(s, alpha_id)** - to get self correlation results for an alpha\n",
    "\n",
    "**get_prod_corr(s, alpha_id)** - to get prod correlation results for an alpha\n",
    "\n",
    "**get_check_submission(s, alpha_id)** - to get check submission result for an alpha\n",
    "\n",
    "**check_self_corr_test(s, alpha_id)** - to check if alpha passes self correlation test (self_corr<0.7)\n",
    "\n",
    "**check_prod_corr_test(s, alpha_id)** - to check if alpha passes prod correlation test (prod_corr<0.7)\n",
    "\n",
    "**perfomance_comparison(s, alpha_id)** - to get the result of performance comparison for an alpha merged performance"
   ]
  },
  {
   "cell_type": "code",
   "execution_count": null,
   "metadata": {},
   "outputs": [],
   "source": []
  }
 ],
 "metadata": {
  "availableInstances": [
   {
    "_defaultOrder": 0,
    "_isFastLaunch": true,
    "category": "General purpose",
    "gpuNum": 0,
    "hideHardwareSpecs": false,
    "memoryGiB": 4,
    "name": "ml.t3.medium",
    "vcpuNum": 2
   },
   {
    "_defaultOrder": 1,
    "_isFastLaunch": false,
    "category": "General purpose",
    "gpuNum": 0,
    "hideHardwareSpecs": false,
    "memoryGiB": 8,
    "name": "ml.t3.large",
    "vcpuNum": 2
   },
   {
    "_defaultOrder": 2,
    "_isFastLaunch": false,
    "category": "General purpose",
    "gpuNum": 0,
    "hideHardwareSpecs": false,
    "memoryGiB": 16,
    "name": "ml.t3.xlarge",
    "vcpuNum": 4
   },
   {
    "_defaultOrder": 3,
    "_isFastLaunch": false,
    "category": "General purpose",
    "gpuNum": 0,
    "hideHardwareSpecs": false,
    "memoryGiB": 32,
    "name": "ml.t3.2xlarge",
    "vcpuNum": 8
   },
   {
    "_defaultOrder": 4,
    "_isFastLaunch": true,
    "category": "General purpose",
    "gpuNum": 0,
    "hideHardwareSpecs": false,
    "memoryGiB": 8,
    "name": "ml.m5.large",
    "vcpuNum": 2
   },
   {
    "_defaultOrder": 5,
    "_isFastLaunch": false,
    "category": "General purpose",
    "gpuNum": 0,
    "hideHardwareSpecs": false,
    "memoryGiB": 16,
    "name": "ml.m5.xlarge",
    "vcpuNum": 4
   },
   {
    "_defaultOrder": 6,
    "_isFastLaunch": false,
    "category": "General purpose",
    "gpuNum": 0,
    "hideHardwareSpecs": false,
    "memoryGiB": 32,
    "name": "ml.m5.2xlarge",
    "vcpuNum": 8
   },
   {
    "_defaultOrder": 7,
    "_isFastLaunch": false,
    "category": "General purpose",
    "gpuNum": 0,
    "hideHardwareSpecs": false,
    "memoryGiB": 64,
    "name": "ml.m5.4xlarge",
    "vcpuNum": 16
   },
   {
    "_defaultOrder": 8,
    "_isFastLaunch": false,
    "category": "General purpose",
    "gpuNum": 0,
    "hideHardwareSpecs": false,
    "memoryGiB": 128,
    "name": "ml.m5.8xlarge",
    "vcpuNum": 32
   },
   {
    "_defaultOrder": 9,
    "_isFastLaunch": false,
    "category": "General purpose",
    "gpuNum": 0,
    "hideHardwareSpecs": false,
    "memoryGiB": 192,
    "name": "ml.m5.12xlarge",
    "vcpuNum": 48
   },
   {
    "_defaultOrder": 10,
    "_isFastLaunch": false,
    "category": "General purpose",
    "gpuNum": 0,
    "hideHardwareSpecs": false,
    "memoryGiB": 256,
    "name": "ml.m5.16xlarge",
    "vcpuNum": 64
   },
   {
    "_defaultOrder": 11,
    "_isFastLaunch": false,
    "category": "General purpose",
    "gpuNum": 0,
    "hideHardwareSpecs": false,
    "memoryGiB": 384,
    "name": "ml.m5.24xlarge",
    "vcpuNum": 96
   },
   {
    "_defaultOrder": 12,
    "_isFastLaunch": false,
    "category": "General purpose",
    "gpuNum": 0,
    "hideHardwareSpecs": false,
    "memoryGiB": 8,
    "name": "ml.m5d.large",
    "vcpuNum": 2
   },
   {
    "_defaultOrder": 13,
    "_isFastLaunch": false,
    "category": "General purpose",
    "gpuNum": 0,
    "hideHardwareSpecs": false,
    "memoryGiB": 16,
    "name": "ml.m5d.xlarge",
    "vcpuNum": 4
   },
   {
    "_defaultOrder": 14,
    "_isFastLaunch": false,
    "category": "General purpose",
    "gpuNum": 0,
    "hideHardwareSpecs": false,
    "memoryGiB": 32,
    "name": "ml.m5d.2xlarge",
    "vcpuNum": 8
   },
   {
    "_defaultOrder": 15,
    "_isFastLaunch": false,
    "category": "General purpose",
    "gpuNum": 0,
    "hideHardwareSpecs": false,
    "memoryGiB": 64,
    "name": "ml.m5d.4xlarge",
    "vcpuNum": 16
   },
   {
    "_defaultOrder": 16,
    "_isFastLaunch": false,
    "category": "General purpose",
    "gpuNum": 0,
    "hideHardwareSpecs": false,
    "memoryGiB": 128,
    "name": "ml.m5d.8xlarge",
    "vcpuNum": 32
   },
   {
    "_defaultOrder": 17,
    "_isFastLaunch": false,
    "category": "General purpose",
    "gpuNum": 0,
    "hideHardwareSpecs": false,
    "memoryGiB": 192,
    "name": "ml.m5d.12xlarge",
    "vcpuNum": 48
   },
   {
    "_defaultOrder": 18,
    "_isFastLaunch": false,
    "category": "General purpose",
    "gpuNum": 0,
    "hideHardwareSpecs": false,
    "memoryGiB": 256,
    "name": "ml.m5d.16xlarge",
    "vcpuNum": 64
   },
   {
    "_defaultOrder": 19,
    "_isFastLaunch": false,
    "category": "General purpose",
    "gpuNum": 0,
    "hideHardwareSpecs": false,
    "memoryGiB": 384,
    "name": "ml.m5d.24xlarge",
    "vcpuNum": 96
   },
   {
    "_defaultOrder": 20,
    "_isFastLaunch": false,
    "category": "General purpose",
    "gpuNum": 0,
    "hideHardwareSpecs": true,
    "memoryGiB": 0,
    "name": "ml.geospatial.interactive",
    "supportedImageNames": [
     "sagemaker-geospatial-v1-0"
    ],
    "vcpuNum": 0
   },
   {
    "_defaultOrder": 21,
    "_isFastLaunch": true,
    "category": "Compute optimized",
    "gpuNum": 0,
    "hideHardwareSpecs": false,
    "memoryGiB": 4,
    "name": "ml.c5.large",
    "vcpuNum": 2
   },
   {
    "_defaultOrder": 22,
    "_isFastLaunch": false,
    "category": "Compute optimized",
    "gpuNum": 0,
    "hideHardwareSpecs": false,
    "memoryGiB": 8,
    "name": "ml.c5.xlarge",
    "vcpuNum": 4
   },
   {
    "_defaultOrder": 23,
    "_isFastLaunch": false,
    "category": "Compute optimized",
    "gpuNum": 0,
    "hideHardwareSpecs": false,
    "memoryGiB": 16,
    "name": "ml.c5.2xlarge",
    "vcpuNum": 8
   },
   {
    "_defaultOrder": 24,
    "_isFastLaunch": false,
    "category": "Compute optimized",
    "gpuNum": 0,
    "hideHardwareSpecs": false,
    "memoryGiB": 32,
    "name": "ml.c5.4xlarge",
    "vcpuNum": 16
   },
   {
    "_defaultOrder": 25,
    "_isFastLaunch": false,
    "category": "Compute optimized",
    "gpuNum": 0,
    "hideHardwareSpecs": false,
    "memoryGiB": 72,
    "name": "ml.c5.9xlarge",
    "vcpuNum": 36
   },
   {
    "_defaultOrder": 26,
    "_isFastLaunch": false,
    "category": "Compute optimized",
    "gpuNum": 0,
    "hideHardwareSpecs": false,
    "memoryGiB": 96,
    "name": "ml.c5.12xlarge",
    "vcpuNum": 48
   },
   {
    "_defaultOrder": 27,
    "_isFastLaunch": false,
    "category": "Compute optimized",
    "gpuNum": 0,
    "hideHardwareSpecs": false,
    "memoryGiB": 144,
    "name": "ml.c5.18xlarge",
    "vcpuNum": 72
   },
   {
    "_defaultOrder": 28,
    "_isFastLaunch": false,
    "category": "Compute optimized",
    "gpuNum": 0,
    "hideHardwareSpecs": false,
    "memoryGiB": 192,
    "name": "ml.c5.24xlarge",
    "vcpuNum": 96
   },
   {
    "_defaultOrder": 29,
    "_isFastLaunch": true,
    "category": "Accelerated computing",
    "gpuNum": 1,
    "hideHardwareSpecs": false,
    "memoryGiB": 16,
    "name": "ml.g4dn.xlarge",
    "vcpuNum": 4
   },
   {
    "_defaultOrder": 30,
    "_isFastLaunch": false,
    "category": "Accelerated computing",
    "gpuNum": 1,
    "hideHardwareSpecs": false,
    "memoryGiB": 32,
    "name": "ml.g4dn.2xlarge",
    "vcpuNum": 8
   },
   {
    "_defaultOrder": 31,
    "_isFastLaunch": false,
    "category": "Accelerated computing",
    "gpuNum": 1,
    "hideHardwareSpecs": false,
    "memoryGiB": 64,
    "name": "ml.g4dn.4xlarge",
    "vcpuNum": 16
   },
   {
    "_defaultOrder": 32,
    "_isFastLaunch": false,
    "category": "Accelerated computing",
    "gpuNum": 1,
    "hideHardwareSpecs": false,
    "memoryGiB": 128,
    "name": "ml.g4dn.8xlarge",
    "vcpuNum": 32
   },
   {
    "_defaultOrder": 33,
    "_isFastLaunch": false,
    "category": "Accelerated computing",
    "gpuNum": 4,
    "hideHardwareSpecs": false,
    "memoryGiB": 192,
    "name": "ml.g4dn.12xlarge",
    "vcpuNum": 48
   },
   {
    "_defaultOrder": 34,
    "_isFastLaunch": false,
    "category": "Accelerated computing",
    "gpuNum": 1,
    "hideHardwareSpecs": false,
    "memoryGiB": 256,
    "name": "ml.g4dn.16xlarge",
    "vcpuNum": 64
   },
   {
    "_defaultOrder": 35,
    "_isFastLaunch": false,
    "category": "Accelerated computing",
    "gpuNum": 1,
    "hideHardwareSpecs": false,
    "memoryGiB": 61,
    "name": "ml.p3.2xlarge",
    "vcpuNum": 8
   },
   {
    "_defaultOrder": 36,
    "_isFastLaunch": false,
    "category": "Accelerated computing",
    "gpuNum": 4,
    "hideHardwareSpecs": false,
    "memoryGiB": 244,
    "name": "ml.p3.8xlarge",
    "vcpuNum": 32
   },
   {
    "_defaultOrder": 37,
    "_isFastLaunch": false,
    "category": "Accelerated computing",
    "gpuNum": 8,
    "hideHardwareSpecs": false,
    "memoryGiB": 488,
    "name": "ml.p3.16xlarge",
    "vcpuNum": 64
   },
   {
    "_defaultOrder": 38,
    "_isFastLaunch": false,
    "category": "Accelerated computing",
    "gpuNum": 8,
    "hideHardwareSpecs": false,
    "memoryGiB": 768,
    "name": "ml.p3dn.24xlarge",
    "vcpuNum": 96
   },
   {
    "_defaultOrder": 39,
    "_isFastLaunch": false,
    "category": "Memory Optimized",
    "gpuNum": 0,
    "hideHardwareSpecs": false,
    "memoryGiB": 16,
    "name": "ml.r5.large",
    "vcpuNum": 2
   },
   {
    "_defaultOrder": 40,
    "_isFastLaunch": false,
    "category": "Memory Optimized",
    "gpuNum": 0,
    "hideHardwareSpecs": false,
    "memoryGiB": 32,
    "name": "ml.r5.xlarge",
    "vcpuNum": 4
   },
   {
    "_defaultOrder": 41,
    "_isFastLaunch": false,
    "category": "Memory Optimized",
    "gpuNum": 0,
    "hideHardwareSpecs": false,
    "memoryGiB": 64,
    "name": "ml.r5.2xlarge",
    "vcpuNum": 8
   },
   {
    "_defaultOrder": 42,
    "_isFastLaunch": false,
    "category": "Memory Optimized",
    "gpuNum": 0,
    "hideHardwareSpecs": false,
    "memoryGiB": 128,
    "name": "ml.r5.4xlarge",
    "vcpuNum": 16
   },
   {
    "_defaultOrder": 43,
    "_isFastLaunch": false,
    "category": "Memory Optimized",
    "gpuNum": 0,
    "hideHardwareSpecs": false,
    "memoryGiB": 256,
    "name": "ml.r5.8xlarge",
    "vcpuNum": 32
   },
   {
    "_defaultOrder": 44,
    "_isFastLaunch": false,
    "category": "Memory Optimized",
    "gpuNum": 0,
    "hideHardwareSpecs": false,
    "memoryGiB": 384,
    "name": "ml.r5.12xlarge",
    "vcpuNum": 48
   },
   {
    "_defaultOrder": 45,
    "_isFastLaunch": false,
    "category": "Memory Optimized",
    "gpuNum": 0,
    "hideHardwareSpecs": false,
    "memoryGiB": 512,
    "name": "ml.r5.16xlarge",
    "vcpuNum": 64
   },
   {
    "_defaultOrder": 46,
    "_isFastLaunch": false,
    "category": "Memory Optimized",
    "gpuNum": 0,
    "hideHardwareSpecs": false,
    "memoryGiB": 768,
    "name": "ml.r5.24xlarge",
    "vcpuNum": 96
   },
   {
    "_defaultOrder": 47,
    "_isFastLaunch": false,
    "category": "Accelerated computing",
    "gpuNum": 1,
    "hideHardwareSpecs": false,
    "memoryGiB": 16,
    "name": "ml.g5.xlarge",
    "vcpuNum": 4
   },
   {
    "_defaultOrder": 48,
    "_isFastLaunch": false,
    "category": "Accelerated computing",
    "gpuNum": 1,
    "hideHardwareSpecs": false,
    "memoryGiB": 32,
    "name": "ml.g5.2xlarge",
    "vcpuNum": 8
   },
   {
    "_defaultOrder": 49,
    "_isFastLaunch": false,
    "category": "Accelerated computing",
    "gpuNum": 1,
    "hideHardwareSpecs": false,
    "memoryGiB": 64,
    "name": "ml.g5.4xlarge",
    "vcpuNum": 16
   },
   {
    "_defaultOrder": 50,
    "_isFastLaunch": false,
    "category": "Accelerated computing",
    "gpuNum": 1,
    "hideHardwareSpecs": false,
    "memoryGiB": 128,
    "name": "ml.g5.8xlarge",
    "vcpuNum": 32
   },
   {
    "_defaultOrder": 51,
    "_isFastLaunch": false,
    "category": "Accelerated computing",
    "gpuNum": 1,
    "hideHardwareSpecs": false,
    "memoryGiB": 256,
    "name": "ml.g5.16xlarge",
    "vcpuNum": 64
   },
   {
    "_defaultOrder": 52,
    "_isFastLaunch": false,
    "category": "Accelerated computing",
    "gpuNum": 4,
    "hideHardwareSpecs": false,
    "memoryGiB": 192,
    "name": "ml.g5.12xlarge",
    "vcpuNum": 48
   },
   {
    "_defaultOrder": 53,
    "_isFastLaunch": false,
    "category": "Accelerated computing",
    "gpuNum": 4,
    "hideHardwareSpecs": false,
    "memoryGiB": 384,
    "name": "ml.g5.24xlarge",
    "vcpuNum": 96
   },
   {
    "_defaultOrder": 54,
    "_isFastLaunch": false,
    "category": "Accelerated computing",
    "gpuNum": 8,
    "hideHardwareSpecs": false,
    "memoryGiB": 768,
    "name": "ml.g5.48xlarge",
    "vcpuNum": 192
   },
   {
    "_defaultOrder": 55,
    "_isFastLaunch": false,
    "category": "Accelerated computing",
    "gpuNum": 8,
    "hideHardwareSpecs": false,
    "memoryGiB": 1152,
    "name": "ml.p4d.24xlarge",
    "vcpuNum": 96
   },
   {
    "_defaultOrder": 56,
    "_isFastLaunch": false,
    "category": "Accelerated computing",
    "gpuNum": 8,
    "hideHardwareSpecs": false,
    "memoryGiB": 1152,
    "name": "ml.p4de.24xlarge",
    "vcpuNum": 96
   }
  ],
  "instance_type": "ml.t3.medium",
  "kernelspec": {
   "display_name": "Python 3 (ipykernel)",
   "language": "python",
   "name": "python3"
  },
  "language_info": {
   "codemirror_mode": {
    "name": "ipython",
    "version": 3
   },
   "file_extension": ".py",
   "mimetype": "text/x-python",
   "name": "python",
   "nbconvert_exporter": "python",
   "pygments_lexer": "ipython3",
   "version": "3.10.9"
  }
 },
 "nbformat": 4,
 "nbformat_minor": 4
}
