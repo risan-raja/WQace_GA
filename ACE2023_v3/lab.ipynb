{
 "cells": [
  {
   "cell_type": "code",
   "execution_count": 3,
   "id": "99c75f73",
   "metadata": {},
   "outputs": [],
   "source": [
    "list = [1, 2, 3, 4, 5, 6, 7, 8, 9, 10]\n",
    "\n",
    "max_iter = 9"
   ]
  },
  {
   "cell_type": "code",
   "execution_count": 10,
   "id": "c713ea62",
   "metadata": {},
   "outputs": [
    {
     "name": "stdout",
     "output_type": "stream",
     "text": [
      "0\n",
      "1\n",
      "this is our first time\n",
      "1\n",
      "1\n",
      "2\n",
      "we are at place: 1 key 2\n",
      "3\n",
      "2\n",
      "3\n",
      "we are at place: 2 key 3\n",
      "5\n",
      "3\n",
      "4\n",
      "we are at place: 3 key 4\n",
      "7\n",
      "4\n",
      "5\n",
      "we are at place: 4 key 5\n",
      "9\n",
      "5\n",
      "6\n",
      "we are at place: 5 key 6\n",
      "11\n",
      "6\n",
      "7\n",
      "we are at place: 6 key 7\n",
      "13\n",
      "7\n",
      "8\n",
      "we are at place: 7 key 8\n",
      "15\n",
      "8\n",
      "9\n",
      "we are at place: 8 key 9\n",
      "17\n"
     ]
    }
   ],
   "source": [
    "it = 0\n",
    "while it < max_iter: # where the loop start\n",
    "    print(it)\n",
    "    print(list[it])\n",
    "    if it >= 1:\n",
    "        print('we are at place:', it, 'key', list[it])\n",
    "    else:\n",
    "        print('this is our first time')\n",
    "    plus(it, list[it])\n",
    "    it += 1"
   ]
  },
  {
   "cell_type": "code",
   "execution_count": null,
   "id": "d5157c68",
   "metadata": {},
   "outputs": [],
   "source": [
    "\n",
    "        ga = GeneticAlgorithm() # why need to do this not just main(self)"
   ]
  }
 ],
 "metadata": {
  "kernelspec": {
   "display_name": "Python 3 (ipykernel)",
   "language": "python",
   "name": "python3"
  },
  "language_info": {
   "codemirror_mode": {
    "name": "ipython",
    "version": 3
   },
   "file_extension": ".py",
   "mimetype": "text/x-python",
   "name": "python",
   "nbconvert_exporter": "python",
   "pygments_lexer": "ipython3",
   "version": "3.10.9"
  }
 },
 "nbformat": 4,
 "nbformat_minor": 5
}
