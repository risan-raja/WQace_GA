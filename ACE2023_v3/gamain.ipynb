{
 "cells": [
  {
   "cell_type": "markdown",
   "metadata": {},
   "source": [
    "### Import library and get session"
   ]
  },
  {
   "cell_type": "code",
   "execution_count": 1,
   "metadata": {},
   "outputs": [
    {
     "name": "stdout",
     "output_type": "stream",
     "text": [
      "Complete biometrics authentication and press any key to continue: \n",
      "https://api.worldquantbrain.com/authentication/persona?inquiry=inq_PSuNamt6xGLDo5kEcUA3PPCY\n",
      "\n",
      "\n"
     ]
    }
   ],
   "source": [
    "import ace_lib as ace # !pip install first!! & may delete the matplot library\n",
    "import helpful_functions as hf\n",
    "import pandas as pd\n",
    "import requests\n",
    "import plotly.express as px\n",
    "import numpy as np\n",
    "import random\n",
    "import math\n",
    "import matplotlib.pyplot as plt\n",
    "from tqdm.notebook import tqdm\n",
    "import warnings\n",
    "import numpy as np\n",
    "from geneticalgorithm import GeneticAlgorithm as ga\n",
    "np.set_printoptions(suppress=True)\n",
    "%matplotlib inline\n",
    "warnings.filterwarnings(\"ignore\")\n",
    "\n",
    "s = ace.start_session()"
   ]
  },
  {
   "cell_type": "markdown",
   "metadata": {},
   "source": [
    "### Create list of alpha what you want to use in population"
   ]
  },
  {
   "cell_type": "code",
   "execution_count": 2,
   "metadata": {
    "scrolled": true
   },
   "outputs": [
    {
     "data": {
      "text/html": [
       "<div>\n",
       "<style scoped>\n",
       "    .dataframe tbody tr th:only-of-type {\n",
       "        vertical-align: middle;\n",
       "    }\n",
       "\n",
       "    .dataframe tbody tr th {\n",
       "        vertical-align: top;\n",
       "    }\n",
       "\n",
       "    .dataframe thead th {\n",
       "        text-align: right;\n",
       "    }\n",
       "</style>\n",
       "<table border=\"1\" class=\"dataframe\">\n",
       "  <thead>\n",
       "    <tr style=\"text-align: right;\">\n",
       "      <th></th>\n",
       "      <th>id</th>\n",
       "      <th>name</th>\n",
       "      <th>description</th>\n",
       "      <th>category</th>\n",
       "      <th>subcategory</th>\n",
       "      <th>region</th>\n",
       "      <th>delay</th>\n",
       "      <th>universe</th>\n",
       "      <th>coverage</th>\n",
       "      <th>turnover</th>\n",
       "      <th>valueScore</th>\n",
       "      <th>userCount</th>\n",
       "      <th>alphaCount</th>\n",
       "      <th>fieldCount</th>\n",
       "    </tr>\n",
       "  </thead>\n",
       "  <tbody>\n",
       "    <tr>\n",
       "      <th>133</th>\n",
       "      <td>model58</td>\n",
       "      <td>Implied Volatility Data</td>\n",
       "      <td>The dataset provides a standard deviation (vol...</td>\n",
       "      <td>model</td>\n",
       "      <td>model-volatility-models</td>\n",
       "      <td>USA</td>\n",
       "      <td>1</td>\n",
       "      <td>TOP3000</td>\n",
       "      <td>0.9655</td>\n",
       "      <td>None</td>\n",
       "      <td>2.0</td>\n",
       "      <td>59</td>\n",
       "      <td>1314</td>\n",
       "      <td>2</td>\n",
       "    </tr>\n",
       "    <tr>\n",
       "      <th>181</th>\n",
       "      <td>option4</td>\n",
       "      <td>Implied Volatility and Pricing for Equity Options</td>\n",
       "      <td>This dataset provides information of options p...</td>\n",
       "      <td>option</td>\n",
       "      <td>option-option</td>\n",
       "      <td>USA</td>\n",
       "      <td>1</td>\n",
       "      <td>TOP3000</td>\n",
       "      <td>0.8218</td>\n",
       "      <td>None</td>\n",
       "      <td>2.0</td>\n",
       "      <td>274</td>\n",
       "      <td>108406</td>\n",
       "      <td>1196</td>\n",
       "    </tr>\n",
       "    <tr>\n",
       "      <th>182</th>\n",
       "      <td>option6</td>\n",
       "      <td>Forecasted Volatility for Equity Options</td>\n",
       "      <td>This dataset has various estimates of Options ...</td>\n",
       "      <td>option</td>\n",
       "      <td>option-option-volatility</td>\n",
       "      <td>USA</td>\n",
       "      <td>1</td>\n",
       "      <td>TOP3000</td>\n",
       "      <td>0.8940</td>\n",
       "      <td>None</td>\n",
       "      <td>2.0</td>\n",
       "      <td>189</td>\n",
       "      <td>34450</td>\n",
       "      <td>140</td>\n",
       "    </tr>\n",
       "    <tr>\n",
       "      <th>250</th>\n",
       "      <td>pv28</td>\n",
       "      <td>Price Volatility Predictions Data</td>\n",
       "      <td>Forecasted price and volatility data</td>\n",
       "      <td>pv</td>\n",
       "      <td>pv-price-volume</td>\n",
       "      <td>USA</td>\n",
       "      <td>1</td>\n",
       "      <td>TOP3000</td>\n",
       "      <td>0.8039</td>\n",
       "      <td>None</td>\n",
       "      <td>2.0</td>\n",
       "      <td>18</td>\n",
       "      <td>184</td>\n",
       "      <td>6</td>\n",
       "    </tr>\n",
       "  </tbody>\n",
       "</table>\n",
       "</div>"
      ],
      "text/plain": [
       "          id                                               name  \\\n",
       "133  model58                            Implied Volatility Data   \n",
       "181  option4  Implied Volatility and Pricing for Equity Options   \n",
       "182  option6           Forecasted Volatility for Equity Options   \n",
       "250     pv28                  Price Volatility Predictions Data   \n",
       "\n",
       "                                           description category  \\\n",
       "133  The dataset provides a standard deviation (vol...    model   \n",
       "181  This dataset provides information of options p...   option   \n",
       "182  This dataset has various estimates of Options ...   option   \n",
       "250               Forecasted price and volatility data       pv   \n",
       "\n",
       "                  subcategory region  delay universe  coverage turnover  \\\n",
       "133   model-volatility-models    USA      1  TOP3000    0.9655     None   \n",
       "181             option-option    USA      1  TOP3000    0.8218     None   \n",
       "182  option-option-volatility    USA      1  TOP3000    0.8940     None   \n",
       "250           pv-price-volume    USA      1  TOP3000    0.8039     None   \n",
       "\n",
       "     valueScore  userCount  alphaCount  fieldCount  \n",
       "133         2.0         59        1314           2  \n",
       "181         2.0        274      108406        1196  \n",
       "182         2.0        189       34450         140  \n",
       "250         2.0         18         184           6  "
      ]
     },
     "execution_count": 2,
     "metadata": {},
     "output_type": "execute_result"
    }
   ],
   "source": [
    "datasets_df = hf.get_datasets(s) # by default we load all datasets USA TOP3000 delay 1\n",
    "# select needed datasets and become datadield\n",
    "selected_datasets_df = datasets_df.query(\"\"\"\n",
    "        delay == 1 &\\\n",
    "        0.8 < coverage <= 1 &\\\n",
    "        0 < fieldCount < 10000 &\\\n",
    "        region == 'USA' &\\\n",
    "        universe == 'TOP3000' &\\\n",
    "        0 < userCount < 1000 &\\\n",
    "        1 < valueScore < 10 &\\\n",
    "        name.str.contains('volatility', case=False) == 1 \n",
    "    \"\"\", engine='python').sort_values(by=['valueScore'], ascending=False)\n",
    "selected_datasets_df"
   ]
  },
  {
   "cell_type": "code",
   "execution_count": 4,
   "metadata": {
    "scrolled": true
   },
   "outputs": [
    {
     "name": "stdout",
     "output_type": "stream",
     "text": [
      "id in datafields_df 0 : 2\n",
      "id in datafields_df 1 : 1196\n",
      "id in datafields_df 2 : 140\n",
      "id in datafields_df 3 : 6\n",
      "id in combined_df: 1344\n"
     ]
    }
   ],
   "source": [
    "datafields_df_list = []  # 創建一個空列表來存儲 datafields 資料\n",
    "id_list = len(selected_datasets_df.id.values.tolist())\n",
    "for i in range(id_list):\n",
    "    dataset_id = selected_datasets_df.id.values.tolist()[i]\n",
    "    datafields_df = hf.get_datafields(s, dataset_id=dataset_id)  # 下載該資料集的所有字段\n",
    "    datafields_df_list.append(datafields_df)  # 將 datafields 資料附加到列表中\n",
    "    datafields_df.head()\n",
    "\n",
    "for i, df in enumerate(datafields_df_list): # 顯示整個 datafields_df_list 中各個資料框的行數\n",
    "    print(\"id in datafields_df\", i, \":\", df.shape[0])\n",
    "\n",
    "combined_df = pd.concat(datafields_df_list, ignore_index=True) # 將所有資料框整合成一個\n",
    "print(\"id in combined_df:\", combined_df.shape[0]) # 顯示整合後的資料框行數\n",
    "combined_df.head()\n",
    "df = combined_df"
   ]
  },
  {
   "cell_type": "code",
   "execution_count": 5,
   "metadata": {},
   "outputs": [
    {
     "ename": "TypeError",
     "evalue": "GeneticAlgorithm.main() missing 1 required positional argument: 'df'",
     "output_type": "error",
     "traceback": [
      "\u001b[1;31m---------------------------------------------------------------------------\u001b[0m",
      "\u001b[1;31mTypeError\u001b[0m                                 Traceback (most recent call last)",
      "Cell \u001b[1;32mIn[5], line 1\u001b[0m\n\u001b[1;32m----> 1\u001b[0m \u001b[43mga\u001b[49m\u001b[38;5;241;43m.\u001b[39;49m\u001b[43mmain\u001b[49m\u001b[43m(\u001b[49m\u001b[43mdf\u001b[49m\u001b[43m)\u001b[49m\n",
      "\u001b[1;31mTypeError\u001b[0m: GeneticAlgorithm.main() missing 1 required positional argument: 'df'"
     ]
    }
   ],
   "source": [
    "ga.main(df)"
   ]
  },
  {
   "cell_type": "code",
   "execution_count": null,
   "metadata": {},
   "outputs": [],
   "source": []
  }
 ],
 "metadata": {
  "kernelspec": {
   "display_name": "Python 3 (ipykernel)",
   "language": "python",
   "name": "python3"
  },
  "language_info": {
   "codemirror_mode": {
    "name": "ipython",
    "version": 3
   },
   "file_extension": ".py",
   "mimetype": "text/x-python",
   "name": "python",
   "nbconvert_exporter": "python",
   "pygments_lexer": "ipython3",
   "version": "3.10.9"
  }
 },
 "nbformat": 4,
 "nbformat_minor": 2
}
